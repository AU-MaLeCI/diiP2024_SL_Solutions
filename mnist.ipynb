{
  "cells": [
    {
      "cell_type": "markdown",
      "metadata": {
        "id": "D53KDb2hVU_X"
      },
      "source": [
        "# Training a CNN model on MNIST"
      ]
    },
    {
      "cell_type": "markdown",
      "metadata": {},
      "source": [
        "#### Install dependencies"
      ]
    },
    {
      "cell_type": "code",
      "execution_count": 1,
      "metadata": {},
      "outputs": [
        {
          "name": "stdout",
          "output_type": "stream",
          "text": [
            "Requirement already satisfied: matplotlib in /home/io/miniconda3/envs/diip/lib/python3.8/site-packages (3.7.5)\n",
            "Requirement already satisfied: seaborn in /home/io/miniconda3/envs/diip/lib/python3.8/site-packages (0.13.2)\n",
            "Requirement already satisfied: torch in /home/io/miniconda3/envs/diip/lib/python3.8/site-packages (2.3.0)\n",
            "Requirement already satisfied: torchvision in /home/io/miniconda3/envs/diip/lib/python3.8/site-packages (0.18.0)\n",
            "Requirement already satisfied: torchaudio in /home/io/miniconda3/envs/diip/lib/python3.8/site-packages (2.3.0)\n",
            "Requirement already satisfied: contourpy>=1.0.1 in /home/io/miniconda3/envs/diip/lib/python3.8/site-packages (from matplotlib) (1.1.1)\n",
            "Requirement already satisfied: cycler>=0.10 in /home/io/miniconda3/envs/diip/lib/python3.8/site-packages (from matplotlib) (0.12.1)\n",
            "Requirement already satisfied: fonttools>=4.22.0 in /home/io/miniconda3/envs/diip/lib/python3.8/site-packages (from matplotlib) (4.51.0)\n",
            "Requirement already satisfied: kiwisolver>=1.0.1 in /home/io/miniconda3/envs/diip/lib/python3.8/site-packages (from matplotlib) (1.4.5)\n",
            "Requirement already satisfied: numpy<2,>=1.20 in /home/io/miniconda3/envs/diip/lib/python3.8/site-packages (from matplotlib) (1.24.3)\n",
            "Requirement already satisfied: packaging>=20.0 in /home/io/miniconda3/envs/diip/lib/python3.8/site-packages (from matplotlib) (24.0)\n",
            "Requirement already satisfied: pillow>=6.2.0 in /home/io/miniconda3/envs/diip/lib/python3.8/site-packages (from matplotlib) (10.3.0)\n",
            "Requirement already satisfied: pyparsing>=2.3.1 in /home/io/miniconda3/envs/diip/lib/python3.8/site-packages (from matplotlib) (3.1.2)\n",
            "Requirement already satisfied: python-dateutil>=2.7 in /home/io/miniconda3/envs/diip/lib/python3.8/site-packages (from matplotlib) (2.9.0)\n",
            "Requirement already satisfied: importlib-resources>=3.2.0 in /home/io/miniconda3/envs/diip/lib/python3.8/site-packages (from matplotlib) (6.4.0)\n",
            "Requirement already satisfied: pandas>=1.2 in /home/io/miniconda3/envs/diip/lib/python3.8/site-packages (from seaborn) (2.0.3)\n",
            "Requirement already satisfied: filelock in /home/io/miniconda3/envs/diip/lib/python3.8/site-packages (from torch) (3.14.0)\n",
            "Requirement already satisfied: typing-extensions>=4.8.0 in /home/io/miniconda3/envs/diip/lib/python3.8/site-packages (from torch) (4.11.0)\n",
            "Requirement already satisfied: sympy in /home/io/miniconda3/envs/diip/lib/python3.8/site-packages (from torch) (1.12)\n",
            "Requirement already satisfied: networkx in /home/io/miniconda3/envs/diip/lib/python3.8/site-packages (from torch) (3.1)\n",
            "Requirement already satisfied: jinja2 in /home/io/miniconda3/envs/diip/lib/python3.8/site-packages (from torch) (3.1.4)\n",
            "Requirement already satisfied: fsspec in /home/io/miniconda3/envs/diip/lib/python3.8/site-packages (from torch) (2024.3.1)\n",
            "Requirement already satisfied: nvidia-cuda-nvrtc-cu12==12.1.105 in /home/io/miniconda3/envs/diip/lib/python3.8/site-packages (from torch) (12.1.105)\n",
            "Requirement already satisfied: nvidia-cuda-runtime-cu12==12.1.105 in /home/io/miniconda3/envs/diip/lib/python3.8/site-packages (from torch) (12.1.105)\n",
            "Requirement already satisfied: nvidia-cuda-cupti-cu12==12.1.105 in /home/io/miniconda3/envs/diip/lib/python3.8/site-packages (from torch) (12.1.105)\n",
            "Requirement already satisfied: nvidia-cudnn-cu12==8.9.2.26 in /home/io/miniconda3/envs/diip/lib/python3.8/site-packages (from torch) (8.9.2.26)\n",
            "Requirement already satisfied: nvidia-cublas-cu12==12.1.3.1 in /home/io/miniconda3/envs/diip/lib/python3.8/site-packages (from torch) (12.1.3.1)\n",
            "Requirement already satisfied: nvidia-cufft-cu12==11.0.2.54 in /home/io/miniconda3/envs/diip/lib/python3.8/site-packages (from torch) (11.0.2.54)\n",
            "Requirement already satisfied: nvidia-curand-cu12==10.3.2.106 in /home/io/miniconda3/envs/diip/lib/python3.8/site-packages (from torch) (10.3.2.106)\n",
            "Requirement already satisfied: nvidia-cusolver-cu12==11.4.5.107 in /home/io/miniconda3/envs/diip/lib/python3.8/site-packages (from torch) (11.4.5.107)\n",
            "Requirement already satisfied: nvidia-cusparse-cu12==12.1.0.106 in /home/io/miniconda3/envs/diip/lib/python3.8/site-packages (from torch) (12.1.0.106)\n",
            "Requirement already satisfied: nvidia-nccl-cu12==2.20.5 in /home/io/miniconda3/envs/diip/lib/python3.8/site-packages (from torch) (2.20.5)\n",
            "Requirement already satisfied: nvidia-nvtx-cu12==12.1.105 in /home/io/miniconda3/envs/diip/lib/python3.8/site-packages (from torch) (12.1.105)\n",
            "Requirement already satisfied: triton==2.3.0 in /home/io/miniconda3/envs/diip/lib/python3.8/site-packages (from torch) (2.3.0)\n",
            "Requirement already satisfied: nvidia-nvjitlink-cu12 in /home/io/miniconda3/envs/diip/lib/python3.8/site-packages (from nvidia-cusolver-cu12==11.4.5.107->torch) (12.4.127)\n",
            "Requirement already satisfied: zipp>=3.1.0 in /home/io/miniconda3/envs/diip/lib/python3.8/site-packages (from importlib-resources>=3.2.0->matplotlib) (3.18.1)\n",
            "Requirement already satisfied: pytz>=2020.1 in /home/io/miniconda3/envs/diip/lib/python3.8/site-packages (from pandas>=1.2->seaborn) (2024.1)\n",
            "Requirement already satisfied: tzdata>=2022.1 in /home/io/miniconda3/envs/diip/lib/python3.8/site-packages (from pandas>=1.2->seaborn) (2024.1)\n",
            "Requirement already satisfied: six>=1.5 in /home/io/miniconda3/envs/diip/lib/python3.8/site-packages (from python-dateutil>=2.7->matplotlib) (1.16.0)\n",
            "Requirement already satisfied: MarkupSafe>=2.0 in /home/io/miniconda3/envs/diip/lib/python3.8/site-packages (from jinja2->torch) (2.1.5)\n",
            "Requirement already satisfied: mpmath>=0.19 in /home/io/miniconda3/envs/diip/lib/python3.8/site-packages (from sympy->torch) (1.3.0)\n",
            "Note: you may need to restart the kernel to use updated packages.\n"
          ]
        }
      ],
      "source": [
        "%pip install matplotlib seaborn torch torchvision torchaudio"
      ]
    },
    {
      "cell_type": "markdown",
      "metadata": {},
      "source": [
        "#### Prepare imports"
      ]
    },
    {
      "cell_type": "code",
      "execution_count": 2,
      "metadata": {
        "id": "0z7zspfLVU_Y"
      },
      "outputs": [],
      "source": [
        "import matplotlib.pyplot as plt # This is to load plotting functions\n",
        "import seaborn as sns; sns.set() # This is to make the plots prettier\n",
        "import torch # This is the ML library we will use\n",
        "from torchvision import datasets # This is to access the MNIST dataset\n",
        "from torchvision.transforms import ToTensor # This is used to transform data into a PyTorch tensor\n",
        "from torch.utils.data import DataLoader # This is used to load the data efficiently"
      ]
    },
    {
      "cell_type": "markdown",
      "metadata": {},
      "source": [
        "#### Select the device from GPU and CPU"
      ]
    },
    {
      "cell_type": "code",
      "execution_count": 3,
      "metadata": {
        "colab": {
          "base_uri": "https://localhost:8080/"
        },
        "id": "OgaQ7FaCVU_g",
        "outputId": "2b0f9f23-03a1-47cf-f079-431bef89dd8a"
      },
      "outputs": [
        {
          "data": {
            "text/plain": [
              "device(type='cuda', index=0)"
            ]
          },
          "execution_count": 3,
          "metadata": {},
          "output_type": "execute_result"
        }
      ],
      "source": [
        "# If GPU is available, it is chosen for computations, and if not, CPU will be used\n",
        "device = torch.device('cuda:0' if torch.cuda.is_available() else 'cpu')\n",
        "device"
      ]
    },
    {
      "cell_type": "markdown",
      "metadata": {},
      "source": [
        "#### Download the MNIST dataset"
      ]
    },
    {
      "cell_type": "code",
      "execution_count": 4,
      "metadata": {},
      "outputs": [
        {
          "name": "stdout",
          "output_type": "stream",
          "text": [
            "Dataset MNIST\n",
            "    Number of datapoints: 60000\n",
            "    Root location: data\n",
            "    Split: Train\n",
            "    StandardTransform\n",
            "Transform: ToTensor()\n",
            "Dataset MNIST\n",
            "    Number of datapoints: 10000\n",
            "    Root location: data\n",
            "    Split: Test\n",
            "    StandardTransform\n",
            "Transform: ToTensor()\n"
          ]
        }
      ],
      "source": [
        "train_data = datasets.MNIST(\n",
        "    root = 'data',\n",
        "    train = True,                         \n",
        "    transform = ToTensor(), \n",
        "    download = True,            \n",
        ")\n",
        "test_data = datasets.MNIST(\n",
        "    root = 'data', \n",
        "    train = False, \n",
        "    transform = ToTensor()\n",
        ")\n",
        "print(train_data)\n",
        "print(test_data)"
      ]
    },
    {
      "cell_type": "markdown",
      "metadata": {},
      "source": [
        "##### Show example images from the dataset"
      ]
    },
    {
      "cell_type": "code",
      "execution_count": 5,
      "metadata": {},
      "outputs": [
        {
          "data": {
            "image/png": "[encoded data removed]",
            "text/plain": [
              "<Figure size 1000x800 with 25 Axes>"
            ]
          },
          "metadata": {},
          "output_type": "display_data"
        }
      ],
      "source": [
        "figure = plt.figure(figsize=(10, 8))\n",
        "cols, rows = 5, 5\n",
        "for i in range(1, cols * rows + 1):\n",
        "    sample_idx = torch.randint(len(train_data), size=(1,)).item()\n",
        "    img, label = train_data[sample_idx]\n",
        "    figure.add_subplot(rows, cols, i)\n",
        "    plt.title(label)\n",
        "    plt.axis(\"off\")\n",
        "    plt.imshow(img.squeeze(), cmap=\"gray\")\n",
        "plt.show()"
      ]
    },
    {
      "cell_type": "markdown",
      "metadata": {},
      "source": [
        "#### Create data loaders"
      ]
    },
    {
      "cell_type": "code",
      "execution_count": 6,
      "metadata": {},
      "outputs": [],
      "source": [
        "train_loader = torch.utils.data.DataLoader(\n",
        "    train_data, batch_size=100, shuffle=True, num_workers=1\n",
        ")\n",
        "\n",
        "test_loader = (\n",
        "    torch.utils.data.DataLoader(test_data, batch_size=100, shuffle=True, num_workers=1)\n",
        ")"
      ]
    },
    {
      "cell_type": "markdown",
      "metadata": {},
      "source": [
        "#### Create an MLP classifier model with the following structure:\n",
        "\n",
        "Flatten layer to create a vector from the input image (28x28)\n",
        "\n",
        "Linear layer with 28 * 28 input dimensions and 256 output dimensions\n",
        "\n",
        "ReLU activation layer\n",
        "\n",
        "Linear layer with 256 input dimensions and 128 output dimensions\n",
        "\n",
        "ReLU activation layer\n",
        "\n",
        "Linear layer with 128 input dimensions and 10 output dimensions (number of classes)\n",
        "\n",
        "We do not use softmax for the output layer because the CrossEntropyLoss function from PyTorch receives unnormalized logits.\n"
      ]
    },
    {
      "cell_type": "markdown",
      "metadata": {},
      "source": [
        "<details>\n",
        "<summary>Solution</summary>\n",
        "    <code>\n",
        "        torch.nn.Flatten(),<br>\n",
        "        torch.nn.Linear(28 * 28, 256),<br>\n",
        "        torch.nn.ReLU(),<br>\n",
        "        torch.nn.Linear(256, 128),<br>\n",
        "        torch.nn.ReLU(),<br>\n",
        "        torch.nn.Linear(128, 10),<br>\n",
        "    </code>\n",
        "</details>"
      ]
    },
    {
      "cell_type": "code",
      "execution_count": 7,
      "metadata": {},
      "outputs": [],
      "source": [
        "class MnistMlpClassifier(torch.nn.Module):\n",
        "    def __init__(self):\n",
        "        super().__init__()\n",
        "\n",
        "        self.body = torch.nn.Sequential(\n",
        "            torch.nn.Flatten(),\n",
        "            torch.nn.Linear(28 * 28, 256),\n",
        "            torch.nn.ReLU(),\n",
        "            torch.nn.Linear(256, 128),\n",
        "            torch.nn.ReLU(),\n",
        "            torch.nn.Linear(128, 10),\n",
        "        )\n",
        "\n",
        "    def forward(self, x):\n",
        "        output = self.body(x)\n",
        "        return output"
      ]
    },
    {
      "cell_type": "code",
      "execution_count": 8,
      "metadata": {},
      "outputs": [
        {
          "data": {
            "text/plain": [
              "MnistMlpClassifier(\n",
              "  (body): Sequential(\n",
              "    (0): Flatten(start_dim=1, end_dim=-1)\n",
              "    (1): Linear(in_features=784, out_features=256, bias=True)\n",
              "    (2): ReLU()\n",
              "    (3): Linear(in_features=256, out_features=128, bias=True)\n",
              "    (4): ReLU()\n",
              "    (5): Linear(in_features=128, out_features=10, bias=True)\n",
              "  )\n",
              ")"
            ]
          },
          "execution_count": 8,
          "metadata": {},
          "output_type": "execute_result"
        }
      ],
      "source": [
        "# Instantiate the model\n",
        "model_mlp = MnistMlpClassifier()\n",
        "model_mlp"
      ]
    },
    {
      "cell_type": "markdown",
      "metadata": {},
      "source": [
        "#### Create a loss function and an optimizer"
      ]
    },
    {
      "cell_type": "code",
      "execution_count": 9,
      "metadata": {},
      "outputs": [],
      "source": [
        "learning_rate = 0.01\n",
        "\n",
        "loss_func_mlp = torch.nn.CrossEntropyLoss()   \n",
        "optimizer_mlp = torch.optim.Adam(model_mlp.parameters(), lr=learning_rate)"
      ]
    },
    {
      "cell_type": "markdown",
      "metadata": {},
      "source": [
        "#### Train the model"
      ]
    },
    {
      "cell_type": "code",
      "execution_count": 10,
      "metadata": {},
      "outputs": [
        {
          "name": "stdout",
          "output_type": "stream",
          "text": [
            "Epoch [1/10], Step [100/600], Loss: 0.2718\n",
            "Epoch [1/10], Step [200/600], Loss: 0.2328\n",
            "Epoch [1/10], Step [300/600], Loss: 0.1889\n",
            "Epoch [1/10], Step [400/600], Loss: 0.0685\n",
            "Epoch [1/10], Step [500/600], Loss: 0.2423\n",
            "Epoch [1/10], Step [600/600], Loss: 0.1326\n",
            "Epoch [2/10], Step [100/600], Loss: 0.2405\n",
            "Epoch [2/10], Step [200/600], Loss: 0.0820\n",
            "Epoch [2/10], Step [300/600], Loss: 0.1850\n",
            "Epoch [2/10], Step [400/600], Loss: 0.1064\n",
            "Epoch [2/10], Step [500/600], Loss: 0.1347\n",
            "Epoch [2/10], Step [600/600], Loss: 0.1184\n",
            "Epoch [3/10], Step [100/600], Loss: 0.1666\n",
            "Epoch [3/10], Step [200/600], Loss: 0.0975\n",
            "Epoch [3/10], Step [300/600], Loss: 0.0667\n",
            "Epoch [3/10], Step [400/600], Loss: 0.0560\n",
            "Epoch [3/10], Step [500/600], Loss: 0.1397\n",
            "Epoch [3/10], Step [600/600], Loss: 0.1646\n",
            "Epoch [4/10], Step [100/600], Loss: 0.1370\n",
            "Epoch [4/10], Step [200/600], Loss: 0.1596\n",
            "Epoch [4/10], Step [300/600], Loss: 0.0899\n",
            "Epoch [4/10], Step [400/600], Loss: 0.1249\n",
            "Epoch [4/10], Step [500/600], Loss: 0.1126\n",
            "Epoch [4/10], Step [600/600], Loss: 0.1815\n",
            "Epoch [5/10], Step [100/600], Loss: 0.0671\n",
            "Epoch [5/10], Step [200/600], Loss: 0.1571\n",
            "Epoch [5/10], Step [300/600], Loss: 0.0174\n",
            "Epoch [5/10], Step [400/600], Loss: 0.2575\n",
            "Epoch [5/10], Step [500/600], Loss: 0.0721\n",
            "Epoch [5/10], Step [600/600], Loss: 0.0414\n",
            "Epoch [6/10], Step [100/600], Loss: 0.0474\n",
            "Epoch [6/10], Step [200/600], Loss: 0.0733\n",
            "Epoch [6/10], Step [300/600], Loss: 0.1121\n",
            "Epoch [6/10], Step [400/600], Loss: 0.1403\n",
            "Epoch [6/10], Step [500/600], Loss: 0.0671\n",
            "Epoch [6/10], Step [600/600], Loss: 0.0832\n",
            "Epoch [7/10], Step [100/600], Loss: 0.1852\n",
            "Epoch [7/10], Step [200/600], Loss: 0.0589\n",
            "Epoch [7/10], Step [300/600], Loss: 0.0309\n",
            "Epoch [7/10], Step [400/600], Loss: 0.0604\n",
            "Epoch [7/10], Step [500/600], Loss: 0.0529\n",
            "Epoch [7/10], Step [600/600], Loss: 0.0272\n",
            "Epoch [8/10], Step [100/600], Loss: 0.0164\n",
            "Epoch [8/10], Step [200/600], Loss: 0.0406\n",
            "Epoch [8/10], Step [300/600], Loss: 0.0298\n",
            "Epoch [8/10], Step [400/600], Loss: 0.1450\n",
            "Epoch [8/10], Step [500/600], Loss: 0.0918\n",
            "Epoch [8/10], Step [600/600], Loss: 0.0405\n",
            "Epoch [9/10], Step [100/600], Loss: 0.0497\n",
            "Epoch [9/10], Step [200/600], Loss: 0.0226\n",
            "Epoch [9/10], Step [300/600], Loss: 0.0436\n",
            "Epoch [9/10], Step [400/600], Loss: 0.1181\n",
            "Epoch [9/10], Step [500/600], Loss: 0.0494\n",
            "Epoch [9/10], Step [600/600], Loss: 0.0104\n",
            "Epoch [10/10], Step [100/600], Loss: 0.0205\n",
            "Epoch [10/10], Step [200/600], Loss: 0.0076\n",
            "Epoch [10/10], Step [300/600], Loss: 0.0150\n",
            "Epoch [10/10], Step [400/600], Loss: 0.0839\n",
            "Epoch [10/10], Step [500/600], Loss: 0.0716\n",
            "Epoch [10/10], Step [600/600], Loss: 0.0833\n",
            "Done.\n"
          ]
        }
      ],
      "source": [
        "def train(num_epochs, model, loss_func, optimizer):\n",
        "\n",
        "    model.train()\n",
        "\n",
        "    # Train the model\n",
        "    total_step = len(train_loader)\n",
        "\n",
        "    for epoch in range(num_epochs):\n",
        "        # For each batch in the training data\n",
        "        for i, (images, labels) in enumerate(train_loader):\n",
        "\n",
        "            # Compute output and loss\n",
        "            output = model(images)\n",
        "            loss = loss_func(output, labels)\n",
        "\n",
        "            # Clear gradients for this training step\n",
        "            optimizer.zero_grad()\n",
        "\n",
        "            # Compute gradients\n",
        "            loss.backward()\n",
        "            # Apply gradients\n",
        "            optimizer.step()\n",
        "\n",
        "            if (i + 1) % 100 == 0:\n",
        "                print(\n",
        "                    \"Epoch [{}/{}], Step [{}/{}], Loss: {:.4f}\".format(\n",
        "                        epoch + 1, num_epochs, i + 1, total_step, loss.item()\n",
        "                    )\n",
        "                )\n",
        "    \n",
        "    print(\"Done.\")\n",
        "\n",
        "train(10, model_mlp, loss_func_mlp, optimizer_mlp)"
      ]
    },
    {
      "cell_type": "markdown",
      "metadata": {},
      "source": [
        "#### Now test the trained model on the test subset of MNIST"
      ]
    },
    {
      "cell_type": "code",
      "execution_count": 11,
      "metadata": {},
      "outputs": [
        {
          "name": "stdout",
          "output_type": "stream",
          "text": [
            "Test Accuracy of the model on the 10000 test images: 97.21%\n"
          ]
        }
      ],
      "source": [
        "def test(model):\n",
        "    # Test the model\n",
        "    model.eval()\n",
        "    with torch.no_grad():\n",
        "        correct = 0\n",
        "        total = 0\n",
        "        for images, labels in test_loader:\n",
        "            test_output = model(images)\n",
        "            pred_y = torch.max(test_output, 1)[1].data.squeeze()\n",
        "            correct += (pred_y == labels).sum().item()\n",
        "            total += labels.size(0)\n",
        "        \n",
        "        accuracy = correct / float(total)\n",
        "        print('Test Accuracy of the model on the 10000 test images: %.2f%%' % (accuracy * 100))\n",
        "test(model_mlp)"
      ]
    },
    {
      "cell_type": "markdown",
      "metadata": {},
      "source": [
        "#### Create a CNN classifier model with the following structure:\n",
        "\n",
        "2D Convolutional layer with 1 input channel, 16 output channels, filter size of 5x5, stride 1 and padding 2\n",
        "\n",
        "ReLU activation layer\n",
        "\n",
        "2D Max Pooling layer of size 2x2\n",
        "\n",
        "2D Convolutional layer with 16 input channels, 32 output channels, filter size of 5x5, stride 1 and padding 2\n",
        "\n",
        "ReLU activation layer\n",
        "\n",
        "2D Max Pooling layer of size 2x2\n",
        "\n",
        "Flatten layer to create a vector from the tensor (32x7x7)\n",
        "\n",
        "Linear layer with 32 * 7 * 7 input channels and 10 output dimensions (number of classes)\n",
        "\n",
        "We do not use softmax for the output layer because the CrossEntropyLoss function from PyTorch receives unnormalized logits."
      ]
    },
    {
      "cell_type": "markdown",
      "metadata": {},
      "source": [
        "<details>\n",
        "<summary>Solution</summary>\n",
        "    <code>\n",
        "    torch.nn.Conv2d(in_channels=1,out_channels=16,kernel_size=5,stride=1,padding=2),<br>\n",
        "    torch.nn.ReLU(),<br>\n",
        "    torch.nn.MaxPool2d(kernel_size=2),<br>\n",
        "    torch.nn.Conv2d(in_channels=16,out_channels=32,kernel_size=5,stride=1,padding=2),<br>\n",
        "    torch.nn.ReLU(),<br>\n",
        "    torch.nn.MaxPool2d(kernel_size=2),<br>\n",
        "    torch.nn.Flatten(),<br>\n",
        "    torch.nn.Linear(32 * 7 * 7, 10),<br>\n",
        "    </code>\n",
        "</details>"
      ]
    },
    {
      "cell_type": "code",
      "execution_count": 12,
      "metadata": {},
      "outputs": [],
      "source": [
        "class MnistCnnClassifier(torch.nn.Module):\n",
        "    def __init__(self):\n",
        "        super().__init__()\n",
        "\n",
        "        self.body = torch.nn.Sequential(\n",
        "            torch.nn.Conv2d(\n",
        "                in_channels=1,\n",
        "                out_channels=16,\n",
        "                kernel_size=5,\n",
        "                stride=1,\n",
        "                padding=2,\n",
        "            ),\n",
        "            torch.nn.ReLU(),\n",
        "            torch.nn.MaxPool2d(kernel_size=2),\n",
        "            torch.nn.Conv2d(\n",
        "                in_channels=16,\n",
        "                out_channels=32,\n",
        "                kernel_size=5,\n",
        "                stride=1,\n",
        "                padding=2,\n",
        "            ),\n",
        "            torch.nn.ReLU(),\n",
        "            torch.nn.MaxPool2d(kernel_size=2),\n",
        "            torch.nn.Flatten(),\n",
        "            torch.nn.Linear(32 * 7 * 7, 10),\n",
        "        )\n",
        "\n",
        "    def forward(self, x):\n",
        "        output = self.body(x)\n",
        "        return output"
      ]
    },
    {
      "cell_type": "code",
      "execution_count": 13,
      "metadata": {},
      "outputs": [
        {
          "data": {
            "text/plain": [
              "MnistCnnClassifier(\n",
              "  (body): Sequential(\n",
              "    (0): Conv2d(1, 16, kernel_size=(5, 5), stride=(1, 1), padding=(2, 2))\n",
              "    (1): ReLU()\n",
              "    (2): MaxPool2d(kernel_size=2, stride=2, padding=0, dilation=1, ceil_mode=False)\n",
              "    (3): Conv2d(16, 32, kernel_size=(5, 5), stride=(1, 1), padding=(2, 2))\n",
              "    (4): ReLU()\n",
              "    (5): MaxPool2d(kernel_size=2, stride=2, padding=0, dilation=1, ceil_mode=False)\n",
              "    (6): Flatten(start_dim=1, end_dim=-1)\n",
              "    (7): Linear(in_features=1568, out_features=10, bias=True)\n",
              "  )\n",
              ")"
            ]
          },
          "execution_count": 13,
          "metadata": {},
          "output_type": "execute_result"
        }
      ],
      "source": [
        "# Instantiate the model\n",
        "model_cnn = MnistCnnClassifier()\n",
        "model_cnn"
      ]
    },
    {
      "cell_type": "code",
      "execution_count": 14,
      "metadata": {},
      "outputs": [],
      "source": [
        "learning_rate = 0.01\n",
        "\n",
        "loss_func_cnn = torch.nn.CrossEntropyLoss()   \n",
        "optimizer_cnn = torch.optim.Adam(model_cnn.parameters(), lr=learning_rate)"
      ]
    },
    {
      "cell_type": "code",
      "execution_count": 15,
      "metadata": {},
      "outputs": [
        {
          "name": "stdout",
          "output_type": "stream",
          "text": [
            "Epoch [1/10], Step [100/600], Loss: 0.1302\n",
            "Epoch [1/10], Step [200/600], Loss: 0.0657\n",
            "Epoch [1/10], Step [300/600], Loss: 0.0825\n",
            "Epoch [1/10], Step [400/600], Loss: 0.2120\n",
            "Epoch [1/10], Step [500/600], Loss: 0.1508\n",
            "Epoch [1/10], Step [600/600], Loss: 0.0853\n",
            "Epoch [2/10], Step [100/600], Loss: 0.0409\n",
            "Epoch [2/10], Step [200/600], Loss: 0.0759\n",
            "Epoch [2/10], Step [300/600], Loss: 0.0804\n",
            "Epoch [2/10], Step [400/600], Loss: 0.2665\n",
            "Epoch [2/10], Step [500/600], Loss: 0.1435\n",
            "Epoch [2/10], Step [600/600], Loss: 0.0336\n",
            "Epoch [3/10], Step [100/600], Loss: 0.0234\n",
            "Epoch [3/10], Step [200/600], Loss: 0.1207\n",
            "Epoch [3/10], Step [300/600], Loss: 0.0419\n",
            "Epoch [3/10], Step [400/600], Loss: 0.1013\n",
            "Epoch [3/10], Step [500/600], Loss: 0.0583\n",
            "Epoch [3/10], Step [600/600], Loss: 0.0345\n",
            "Epoch [4/10], Step [100/600], Loss: 0.0213\n",
            "Epoch [4/10], Step [200/600], Loss: 0.1194\n",
            "Epoch [4/10], Step [300/600], Loss: 0.0257\n",
            "Epoch [4/10], Step [400/600], Loss: 0.0545\n",
            "Epoch [4/10], Step [500/600], Loss: 0.0290\n",
            "Epoch [4/10], Step [600/600], Loss: 0.0233\n",
            "Epoch [5/10], Step [100/600], Loss: 0.0377\n",
            "Epoch [5/10], Step [200/600], Loss: 0.0260\n",
            "Epoch [5/10], Step [300/600], Loss: 0.0701\n",
            "Epoch [5/10], Step [400/600], Loss: 0.0029\n",
            "Epoch [5/10], Step [500/600], Loss: 0.0524\n",
            "Epoch [5/10], Step [600/600], Loss: 0.0858\n",
            "Epoch [6/10], Step [100/600], Loss: 0.0154\n",
            "Epoch [6/10], Step [200/600], Loss: 0.0274\n",
            "Epoch [6/10], Step [300/600], Loss: 0.0071\n",
            "Epoch [6/10], Step [400/600], Loss: 0.0943\n",
            "Epoch [6/10], Step [500/600], Loss: 0.0129\n",
            "Epoch [6/10], Step [600/600], Loss: 0.0132\n",
            "Epoch [7/10], Step [100/600], Loss: 0.0208\n",
            "Epoch [7/10], Step [200/600], Loss: 0.0425\n",
            "Epoch [7/10], Step [300/600], Loss: 0.0153\n",
            "Epoch [7/10], Step [400/600], Loss: 0.1226\n",
            "Epoch [7/10], Step [500/600], Loss: 0.0162\n",
            "Epoch [7/10], Step [600/600], Loss: 0.0607\n",
            "Epoch [8/10], Step [100/600], Loss: 0.0457\n",
            "Epoch [8/10], Step [200/600], Loss: 0.1114\n",
            "Epoch [8/10], Step [300/600], Loss: 0.0639\n",
            "Epoch [8/10], Step [400/600], Loss: 0.0577\n",
            "Epoch [8/10], Step [500/600], Loss: 0.0158\n",
            "Epoch [8/10], Step [600/600], Loss: 0.0351\n",
            "Epoch [9/10], Step [100/600], Loss: 0.0051\n",
            "Epoch [9/10], Step [200/600], Loss: 0.0515\n",
            "Epoch [9/10], Step [300/600], Loss: 0.0664\n",
            "Epoch [9/10], Step [400/600], Loss: 0.0919\n",
            "Epoch [9/10], Step [500/600], Loss: 0.0185\n",
            "Epoch [9/10], Step [600/600], Loss: 0.0063\n",
            "Epoch [10/10], Step [100/600], Loss: 0.0615\n",
            "Epoch [10/10], Step [200/600], Loss: 0.1662\n",
            "Epoch [10/10], Step [300/600], Loss: 0.0523\n",
            "Epoch [10/10], Step [400/600], Loss: 0.0071\n",
            "Epoch [10/10], Step [500/600], Loss: 0.0015\n",
            "Epoch [10/10], Step [600/600], Loss: 0.0606\n",
            "Done.\n"
          ]
        }
      ],
      "source": [
        "train(10, model_cnn, loss_func_cnn, optimizer_cnn)"
      ]
    },
    {
      "cell_type": "code",
      "execution_count": 16,
      "metadata": {},
      "outputs": [
        {
          "name": "stdout",
          "output_type": "stream",
          "text": [
            "Test Accuracy of the model on the 10000 test images: 98.42%\n"
          ]
        }
      ],
      "source": [
        "test(model_cnn)"
      ]
    }
  ],
  "metadata": {
    "colab": {
      "provenance": []
    },
    "kernelspec": {
      "display_name": "Python 3",
      "language": "python",
      "name": "python3"
    },
    "language_info": {
      "codemirror_mode": {
        "name": "ipython",
        "version": 3
      },
      "file_extension": ".py",
      "mimetype": "text/x-python",
      "name": "python",
      "nbconvert_exporter": "python",
      "pygments_lexer": "ipython3",
      "version": "3.8.19"
    }
  },
  "nbformat": 4,
  "nbformat_minor": 0
}

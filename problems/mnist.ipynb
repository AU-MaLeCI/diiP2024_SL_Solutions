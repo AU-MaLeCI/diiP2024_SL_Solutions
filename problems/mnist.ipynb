{
  "cells": [
    {
      "cell_type": "markdown",
      "metadata": {
        "id": "D53KDb2hVU_X"
      },
      "source": [
        "# Training a CNN model on MNIST"
      ]
    },
    {
      "cell_type": "markdown",
      "metadata": {},
      "source": [
        "### Install dependencies"
      ]
    },
    {
      "cell_type": "code",
      "execution_count": 1,
      "metadata": {},
      "outputs": [
        {
          "name": "stdout",
          "output_type": "stream",
          "text": [
            "Requirement already satisfied: matplotlib in /home/io/miniconda3/envs/diip/lib/python3.8/site-packages (3.7.5)\n",
            "Requirement already satisfied: seaborn in /home/io/miniconda3/envs/diip/lib/python3.8/site-packages (0.13.2)\n",
            "Requirement already satisfied: torch in /home/io/miniconda3/envs/diip/lib/python3.8/site-packages (2.3.0)\n",
            "Requirement already satisfied: torchvision in /home/io/miniconda3/envs/diip/lib/python3.8/site-packages (0.18.0)\n",
            "Requirement already satisfied: torchaudio in /home/io/miniconda3/envs/diip/lib/python3.8/site-packages (2.3.0)\n",
            "Requirement already satisfied: contourpy>=1.0.1 in /home/io/miniconda3/envs/diip/lib/python3.8/site-packages (from matplotlib) (1.1.1)\n",
            "Requirement already satisfied: cycler>=0.10 in /home/io/miniconda3/envs/diip/lib/python3.8/site-packages (from matplotlib) (0.12.1)\n",
            "Requirement already satisfied: fonttools>=4.22.0 in /home/io/miniconda3/envs/diip/lib/python3.8/site-packages (from matplotlib) (4.51.0)\n",
            "Requirement already satisfied: kiwisolver>=1.0.1 in /home/io/miniconda3/envs/diip/lib/python3.8/site-packages (from matplotlib) (1.4.5)\n",
            "Requirement already satisfied: numpy<2,>=1.20 in /home/io/miniconda3/envs/diip/lib/python3.8/site-packages (from matplotlib) (1.24.4)\n",
            "Requirement already satisfied: packaging>=20.0 in /home/io/miniconda3/envs/diip/lib/python3.8/site-packages (from matplotlib) (24.0)\n",
            "Requirement already satisfied: pillow>=6.2.0 in /home/io/miniconda3/envs/diip/lib/python3.8/site-packages (from matplotlib) (10.3.0)\n",
            "Requirement already satisfied: pyparsing>=2.3.1 in /home/io/miniconda3/envs/diip/lib/python3.8/site-packages (from matplotlib) (3.1.2)\n",
            "Requirement already satisfied: python-dateutil>=2.7 in /home/io/miniconda3/envs/diip/lib/python3.8/site-packages (from matplotlib) (2.9.0)\n",
            "Requirement already satisfied: importlib-resources>=3.2.0 in /home/io/miniconda3/envs/diip/lib/python3.8/site-packages (from matplotlib) (6.4.0)\n",
            "Requirement already satisfied: pandas>=1.2 in /home/io/miniconda3/envs/diip/lib/python3.8/site-packages (from seaborn) (2.0.3)\n",
            "Requirement already satisfied: filelock in /home/io/miniconda3/envs/diip/lib/python3.8/site-packages (from torch) (3.14.0)\n",
            "Requirement already satisfied: typing-extensions>=4.8.0 in /home/io/miniconda3/envs/diip/lib/python3.8/site-packages (from torch) (4.11.0)\n",
            "Requirement already satisfied: sympy in /home/io/miniconda3/envs/diip/lib/python3.8/site-packages (from torch) (1.12)\n",
            "Requirement already satisfied: networkx in /home/io/miniconda3/envs/diip/lib/python3.8/site-packages (from torch) (3.1)\n",
            "Requirement already satisfied: jinja2 in /home/io/miniconda3/envs/diip/lib/python3.8/site-packages (from torch) (3.1.4)\n",
            "Requirement already satisfied: fsspec in /home/io/miniconda3/envs/diip/lib/python3.8/site-packages (from torch) (2024.3.1)\n",
            "Requirement already satisfied: nvidia-cuda-nvrtc-cu12==12.1.105 in /home/io/miniconda3/envs/diip/lib/python3.8/site-packages (from torch) (12.1.105)\n",
            "Requirement already satisfied: nvidia-cuda-runtime-cu12==12.1.105 in /home/io/miniconda3/envs/diip/lib/python3.8/site-packages (from torch) (12.1.105)\n",
            "Requirement already satisfied: nvidia-cuda-cupti-cu12==12.1.105 in /home/io/miniconda3/envs/diip/lib/python3.8/site-packages (from torch) (12.1.105)\n",
            "Requirement already satisfied: nvidia-cudnn-cu12==8.9.2.26 in /home/io/miniconda3/envs/diip/lib/python3.8/site-packages (from torch) (8.9.2.26)\n",
            "Requirement already satisfied: nvidia-cublas-cu12==12.1.3.1 in /home/io/miniconda3/envs/diip/lib/python3.8/site-packages (from torch) (12.1.3.1)\n",
            "Requirement already satisfied: nvidia-cufft-cu12==11.0.2.54 in /home/io/miniconda3/envs/diip/lib/python3.8/site-packages (from torch) (11.0.2.54)\n",
            "Requirement already satisfied: nvidia-curand-cu12==10.3.2.106 in /home/io/miniconda3/envs/diip/lib/python3.8/site-packages (from torch) (10.3.2.106)\n",
            "Requirement already satisfied: nvidia-cusolver-cu12==11.4.5.107 in /home/io/miniconda3/envs/diip/lib/python3.8/site-packages (from torch) (11.4.5.107)\n",
            "Requirement already satisfied: nvidia-cusparse-cu12==12.1.0.106 in /home/io/miniconda3/envs/diip/lib/python3.8/site-packages (from torch) (12.1.0.106)\n",
            "Requirement already satisfied: nvidia-nccl-cu12==2.20.5 in /home/io/miniconda3/envs/diip/lib/python3.8/site-packages (from torch) (2.20.5)\n",
            "Requirement already satisfied: nvidia-nvtx-cu12==12.1.105 in /home/io/miniconda3/envs/diip/lib/python3.8/site-packages (from torch) (12.1.105)\n",
            "Requirement already satisfied: triton==2.3.0 in /home/io/miniconda3/envs/diip/lib/python3.8/site-packages (from torch) (2.3.0)\n",
            "Requirement already satisfied: nvidia-nvjitlink-cu12 in /home/io/miniconda3/envs/diip/lib/python3.8/site-packages (from nvidia-cusolver-cu12==11.4.5.107->torch) (12.4.127)\n",
            "Requirement already satisfied: zipp>=3.1.0 in /home/io/miniconda3/envs/diip/lib/python3.8/site-packages (from importlib-resources>=3.2.0->matplotlib) (3.18.1)\n",
            "Requirement already satisfied: pytz>=2020.1 in /home/io/miniconda3/envs/diip/lib/python3.8/site-packages (from pandas>=1.2->seaborn) (2024.1)\n",
            "Requirement already satisfied: tzdata>=2022.1 in /home/io/miniconda3/envs/diip/lib/python3.8/site-packages (from pandas>=1.2->seaborn) (2024.1)\n",
            "Requirement already satisfied: six>=1.5 in /home/io/miniconda3/envs/diip/lib/python3.8/site-packages (from python-dateutil>=2.7->matplotlib) (1.16.0)\n",
            "Requirement already satisfied: MarkupSafe>=2.0 in /home/io/miniconda3/envs/diip/lib/python3.8/site-packages (from jinja2->torch) (2.1.5)\n",
            "Requirement already satisfied: mpmath>=0.19 in /home/io/miniconda3/envs/diip/lib/python3.8/site-packages (from sympy->torch) (1.3.0)\n",
            "Note: you may need to restart the kernel to use updated packages.\n"
          ]
        }
      ],
      "source": [
        "%pip install matplotlib seaborn torch torchvision torchaudio"
      ]
    },
    {
      "cell_type": "code",
      "execution_count": 2,
      "metadata": {
        "id": "0z7zspfLVU_Y"
      },
      "outputs": [],
      "source": [
        "# Dependencies\n",
        "import matplotlib.pyplot as plt\n",
        "import seaborn as sns; sns.set() # this import just makes the plots prettier\n",
        "import torch\n",
        "from torchvision import datasets\n",
        "from torchvision.transforms import ToTensor\n",
        "from torch.utils.data import DataLoader"
      ]
    },
    {
      "cell_type": "markdown",
      "metadata": {},
      "source": [
        "Select device"
      ]
    },
    {
      "cell_type": "code",
      "execution_count": 3,
      "metadata": {
        "colab": {
          "base_uri": "https://localhost:8080/"
        },
        "id": "OgaQ7FaCVU_g",
        "outputId": "2b0f9f23-03a1-47cf-f079-431bef89dd8a"
      },
      "outputs": [
        {
          "data": {
            "text/plain": [
              "device(type='cuda', index=0)"
            ]
          },
          "execution_count": 3,
          "metadata": {},
          "output_type": "execute_result"
        }
      ],
      "source": [
        "device = torch.device('cuda:0' if torch.cuda.is_available() else 'cpu')\n",
        "device"
      ]
    },
    {
      "cell_type": "markdown",
      "metadata": {},
      "source": [
        "### Data\n",
        "Collect the MNIST dataset"
      ]
    },
    {
      "cell_type": "code",
      "execution_count": 4,
      "metadata": {},
      "outputs": [
        {
          "name": "stdout",
          "output_type": "stream",
          "text": [
            "Downloading http://yann.lecun.com/exdb/mnist/train-images-idx3-ubyte.gz\n",
            "Failed to download (trying next):\n",
            "HTTP Error 403: Forbidden\n",
            "\n",
            "Downloading https://ossci-datasets.s3.amazonaws.com/mnist/train-images-idx3-ubyte.gz\n",
            "Downloading https://ossci-datasets.s3.amazonaws.com/mnist/train-images-idx3-ubyte.gz to data/MNIST/raw/train-images-idx3-ubyte.gz\n"
          ]
        },
        {
          "name": "stderr",
          "output_type": "stream",
          "text": [
            "100.0%\n"
          ]
        },
        {
          "name": "stdout",
          "output_type": "stream",
          "text": [
            "Extracting data/MNIST/raw/train-images-idx3-ubyte.gz to data/MNIST/raw\n",
            "\n",
            "Downloading http://yann.lecun.com/exdb/mnist/train-labels-idx1-ubyte.gz\n",
            "Failed to download (trying next):\n",
            "HTTP Error 403: Forbidden\n",
            "\n",
            "Downloading https://ossci-datasets.s3.amazonaws.com/mnist/train-labels-idx1-ubyte.gz\n",
            "Downloading https://ossci-datasets.s3.amazonaws.com/mnist/train-labels-idx1-ubyte.gz to data/MNIST/raw/train-labels-idx1-ubyte.gz\n"
          ]
        },
        {
          "name": "stderr",
          "output_type": "stream",
          "text": [
            "100.0%\n"
          ]
        },
        {
          "name": "stdout",
          "output_type": "stream",
          "text": [
            "Extracting data/MNIST/raw/train-labels-idx1-ubyte.gz to data/MNIST/raw\n",
            "\n",
            "Downloading http://yann.lecun.com/exdb/mnist/t10k-images-idx3-ubyte.gz\n",
            "Failed to download (trying next):\n",
            "HTTP Error 403: Forbidden\n",
            "\n",
            "Downloading https://ossci-datasets.s3.amazonaws.com/mnist/t10k-images-idx3-ubyte.gz\n",
            "Downloading https://ossci-datasets.s3.amazonaws.com/mnist/t10k-images-idx3-ubyte.gz to data/MNIST/raw/t10k-images-idx3-ubyte.gz\n"
          ]
        },
        {
          "name": "stderr",
          "output_type": "stream",
          "text": [
            "100.0%\n"
          ]
        },
        {
          "name": "stdout",
          "output_type": "stream",
          "text": [
            "Extracting data/MNIST/raw/t10k-images-idx3-ubyte.gz to data/MNIST/raw\n",
            "\n",
            "Downloading http://yann.lecun.com/exdb/mnist/t10k-labels-idx1-ubyte.gz\n",
            "Failed to download (trying next):\n",
            "HTTP Error 403: Forbidden\n",
            "\n",
            "Downloading https://ossci-datasets.s3.amazonaws.com/mnist/t10k-labels-idx1-ubyte.gz\n",
            "Downloading https://ossci-datasets.s3.amazonaws.com/mnist/t10k-labels-idx1-ubyte.gz to data/MNIST/raw/t10k-labels-idx1-ubyte.gz\n"
          ]
        },
        {
          "name": "stderr",
          "output_type": "stream",
          "text": [
            "100.0%\n"
          ]
        },
        {
          "name": "stdout",
          "output_type": "stream",
          "text": [
            "Extracting data/MNIST/raw/t10k-labels-idx1-ubyte.gz to data/MNIST/raw\n",
            "\n",
            "Dataset MNIST\n",
            "    Number of datapoints: 60000\n",
            "    Root location: data\n",
            "    Split: Train\n",
            "    StandardTransform\n",
            "Transform: ToTensor()\n",
            "Dataset MNIST\n",
            "    Number of datapoints: 10000\n",
            "    Root location: data\n",
            "    Split: Test\n",
            "    StandardTransform\n",
            "Transform: ToTensor()\n"
          ]
        }
      ],
      "source": [
        "train_data = datasets.MNIST(\n",
        "    root = 'data',\n",
        "    train = True,                         \n",
        "    transform = ToTensor(), \n",
        "    download = True,            \n",
        ")\n",
        "test_data = datasets.MNIST(\n",
        "    root = 'data', \n",
        "    train = False, \n",
        "    transform = ToTensor()\n",
        ")\n",
        "print(train_data)\n",
        "print(test_data)"
      ]
    },
    {
      "cell_type": "markdown",
      "metadata": {},
      "source": [
        "Show example images from the dataset"
      ]
    },
    {
      "cell_type": "code",
      "execution_count": 5,
      "metadata": {},
      "outputs": [
        {
          "data": {
            "image/png": "[encoded data removed]",
            "text/plain": [
              "<Figure size 1000x800 with 25 Axes>"
            ]
          },
          "metadata": {},
          "output_type": "display_data"
        }
      ],
      "source": [
        "figure = plt.figure(figsize=(10, 8))\n",
        "cols, rows = 5, 5\n",
        "for i in range(1, cols * rows + 1):\n",
        "    sample_idx = torch.randint(len(train_data), size=(1,)).item()\n",
        "    img, label = train_data[sample_idx]\n",
        "    figure.add_subplot(rows, cols, i)\n",
        "    plt.title(label)\n",
        "    plt.axis(\"off\")\n",
        "    plt.imshow(img.squeeze(), cmap=\"gray\")\n",
        "plt.show()"
      ]
    },
    {
      "cell_type": "markdown",
      "metadata": {},
      "source": [
        "### Create data loaders\n",
        "We need to create data loaders for both training and test data.\n",
        "To do this, use a DataLoader class from PyTorch, set a batch size to 100 and make it shuffle the data randomly."
      ]
    },
    {
      "cell_type": "markdown",
      "metadata": {},
      "source": [
        "<details>\n",
        "<summary>Click here for hints</summary>\n",
        "Use torch.utils.data.DataLoader class\n",
        "    <details>\n",
        "    <summary>Next hint</summary>\n",
        "    Provide train_data to the loader and include batch_size=100, shuffle=True, num_workers=1.\n",
        "        <details>\n",
        "        <summary>Solution</summary>\n",
        "            <code>\n",
        "            train_loader = torch.utils.data.DataLoader(train_data, batch_size=100, shuffle=True, num_workers=1)<br>\n",
        "            test_loader = torch.utils.data.DataLoader(test_data, batch_size=100, shuffle=True, num_workers=1)<br>\n",
        "            </code>\n",
        "        </details>\n",
        "    </details>\n",
        "</details>"
      ]
    },
    {
      "cell_type": "code",
      "execution_count": 7,
      "metadata": {},
      "outputs": [],
      "source": [
        "# Implement the loaders here\n",
        "train_loader = torch.utils.data.DataLoader(\n",
        "    train_data, batch_size=100, shuffle=True, num_workers=1\n",
        ")\n",
        "\n",
        "test_loader = torch.utils.data.DataLoader(\n",
        "    test_data, batch_size=100, shuffle=True, num_workers=1\n",
        ")"
      ]
    },
    {
      "cell_type": "markdown",
      "metadata": {},
      "source": [
        "Create a classifier model"
      ]
    },
    {
      "cell_type": "code",
      "execution_count": 7,
      "metadata": {},
      "outputs": [],
      "source": [
        "class MnistClassifier(torch.nn.Module):\n",
        "    def __init__(self):\n",
        "        super().__init__()\n",
        "\n",
        "        self.body = torch.nn.Sequential(\n",
        "            torch.nn.Conv2d(\n",
        "                in_channels=1,\n",
        "                out_channels=16,\n",
        "                kernel_size=5,\n",
        "                stride=1,\n",
        "                padding=2,\n",
        "            ),\n",
        "            torch.nn.ReLU(),\n",
        "            torch.nn.MaxPool2d(kernel_size=2),\n",
        "            torch.nn.Conv2d(\n",
        "                in_channels=16,\n",
        "                out_channels=32,\n",
        "                kernel_size=5,\n",
        "                stride=1,\n",
        "                padding=2,\n",
        "            ),\n",
        "            torch.nn.ReLU(),\n",
        "            torch.nn.MaxPool2d(kernel_size=2),\n",
        "            torch.nn.Flatten(),\n",
        "            torch.nn.Linear(32 * 7 * 7, 10),\n",
        "        )\n",
        "\n",
        "    def forward(self, x):\n",
        "        output = self.body(x)\n",
        "        return output"
      ]
    },
    {
      "cell_type": "code",
      "execution_count": 8,
      "metadata": {},
      "outputs": [
        {
          "data": {
            "text/plain": [
              "MnistClassifier(\n",
              "  (body): Sequential(\n",
              "    (0): Conv2d(1, 16, kernel_size=(5, 5), stride=(1, 1), padding=(2, 2))\n",
              "    (1): ReLU()\n",
              "    (2): MaxPool2d(kernel_size=2, stride=2, padding=0, dilation=1, ceil_mode=False)\n",
              "    (3): Conv2d(16, 32, kernel_size=(5, 5), stride=(1, 1), padding=(2, 2))\n",
              "    (4): ReLU()\n",
              "    (5): MaxPool2d(kernel_size=2, stride=2, padding=0, dilation=1, ceil_mode=False)\n",
              "    (6): Flatten(start_dim=1, end_dim=-1)\n",
              "    (7): Linear(in_features=1568, out_features=10, bias=True)\n",
              "  )\n",
              ")"
            ]
          },
          "execution_count": 8,
          "metadata": {},
          "output_type": "execute_result"
        }
      ],
      "source": [
        "model = MnistClassifier()\n",
        "model"
      ]
    },
    {
      "cell_type": "markdown",
      "metadata": {},
      "source": [
        "Create a loss function and an optimizer"
      ]
    },
    {
      "cell_type": "code",
      "execution_count": 9,
      "metadata": {},
      "outputs": [],
      "source": [
        "learning_rate = 0.01\n",
        "\n",
        "loss_func = torch.nn.CrossEntropyLoss()   \n",
        "optimizer = torch.optim.Adam(model.parameters(), lr=learning_rate)"
      ]
    },
    {
      "cell_type": "markdown",
      "metadata": {},
      "source": [
        "Train the model"
      ]
    },
    {
      "cell_type": "code",
      "execution_count": 10,
      "metadata": {},
      "outputs": [
        {
          "name": "stdout",
          "output_type": "stream",
          "text": [
            "Epoch [1/10], Step [100/600], Loss: 0.1745\n",
            "Epoch [1/10], Step [200/600], Loss: 0.1889\n",
            "Epoch [1/10], Step [300/600], Loss: 0.1036\n",
            "Epoch [1/10], Step [400/600], Loss: 0.0367\n",
            "Epoch [1/10], Step [500/600], Loss: 0.0271\n",
            "Epoch [1/10], Step [600/600], Loss: 0.0403\n",
            "Epoch [2/10], Step [100/600], Loss: 0.0551\n",
            "Epoch [2/10], Step [200/600], Loss: 0.0739\n",
            "Epoch [2/10], Step [300/600], Loss: 0.1821\n",
            "Epoch [2/10], Step [400/600], Loss: 0.0600\n",
            "Epoch [2/10], Step [500/600], Loss: 0.0459\n",
            "Epoch [2/10], Step [600/600], Loss: 0.0104\n",
            "Epoch [3/10], Step [100/600], Loss: 0.0298\n",
            "Epoch [3/10], Step [200/600], Loss: 0.0615\n",
            "Epoch [3/10], Step [300/600], Loss: 0.0094\n",
            "Epoch [3/10], Step [400/600], Loss: 0.0300\n",
            "Epoch [3/10], Step [500/600], Loss: 0.0104\n",
            "Epoch [3/10], Step [600/600], Loss: 0.0327\n",
            "Epoch [4/10], Step [100/600], Loss: 0.0284\n",
            "Epoch [4/10], Step [200/600], Loss: 0.1323\n",
            "Epoch [4/10], Step [300/600], Loss: 0.0867\n",
            "Epoch [4/10], Step [400/600], Loss: 0.0420\n",
            "Epoch [4/10], Step [500/600], Loss: 0.0125\n",
            "Epoch [4/10], Step [600/600], Loss: 0.0018\n",
            "Epoch [5/10], Step [100/600], Loss: 0.0630\n",
            "Epoch [5/10], Step [200/600], Loss: 0.0069\n",
            "Epoch [5/10], Step [300/600], Loss: 0.1150\n",
            "Epoch [5/10], Step [400/600], Loss: 0.0018\n",
            "Epoch [5/10], Step [500/600], Loss: 0.0011\n",
            "Epoch [5/10], Step [600/600], Loss: 0.0666\n",
            "Epoch [6/10], Step [100/600], Loss: 0.0021\n",
            "Epoch [6/10], Step [200/600], Loss: 0.0685\n",
            "Epoch [6/10], Step [300/600], Loss: 0.0012\n",
            "Epoch [6/10], Step [400/600], Loss: 0.1587\n",
            "Epoch [6/10], Step [500/600], Loss: 0.0045\n",
            "Epoch [6/10], Step [600/600], Loss: 0.0867\n",
            "Epoch [7/10], Step [100/600], Loss: 0.0378\n",
            "Epoch [7/10], Step [200/600], Loss: 0.0001\n",
            "Epoch [7/10], Step [300/600], Loss: 0.0200\n",
            "Epoch [7/10], Step [400/600], Loss: 0.1116\n",
            "Epoch [7/10], Step [500/600], Loss: 0.0442\n",
            "Epoch [7/10], Step [600/600], Loss: 0.0257\n",
            "Epoch [8/10], Step [100/600], Loss: 0.0006\n",
            "Epoch [8/10], Step [200/600], Loss: 0.0078\n",
            "Epoch [8/10], Step [300/600], Loss: 0.0773\n",
            "Epoch [8/10], Step [400/600], Loss: 0.0143\n",
            "Epoch [8/10], Step [500/600], Loss: 0.0004\n",
            "Epoch [8/10], Step [600/600], Loss: 0.0223\n",
            "Epoch [9/10], Step [100/600], Loss: 0.0001\n",
            "Epoch [9/10], Step [200/600], Loss: 0.0035\n",
            "Epoch [9/10], Step [300/600], Loss: 0.0368\n",
            "Epoch [9/10], Step [400/600], Loss: 0.0353\n",
            "Epoch [9/10], Step [500/600], Loss: 0.0314\n",
            "Epoch [9/10], Step [600/600], Loss: 0.0053\n",
            "Epoch [10/10], Step [100/600], Loss: 0.0060\n",
            "Epoch [10/10], Step [200/600], Loss: 0.0001\n",
            "Epoch [10/10], Step [300/600], Loss: 0.0782\n",
            "Epoch [10/10], Step [400/600], Loss: 0.0040\n",
            "Epoch [10/10], Step [500/600], Loss: 0.0675\n",
            "Epoch [10/10], Step [600/600], Loss: 0.0524\n",
            "Done.\n"
          ]
        }
      ],
      "source": [
        "def train(num_epochs):\n",
        "\n",
        "    model.train()\n",
        "\n",
        "    # Train the model\n",
        "    total_step = len(train_loader)\n",
        "\n",
        "    for epoch in range(num_epochs):\n",
        "        # For each batch in the training data\n",
        "        for i, (images, labels) in enumerate(train_loader):\n",
        "\n",
        "            # Compute output and loss\n",
        "            output = model(images)\n",
        "            loss = loss_func(output, labels)\n",
        "\n",
        "            # Clear gradients for this training step\n",
        "            optimizer.zero_grad()\n",
        "\n",
        "            # Compute gradients\n",
        "            loss.backward()\n",
        "            # Apply gradients\n",
        "            optimizer.step()\n",
        "\n",
        "            if (i + 1) % 100 == 0:\n",
        "                print(\n",
        "                    \"Epoch [{}/{}], Step [{}/{}], Loss: {:.4f}\".format(\n",
        "                        epoch + 1, num_epochs, i + 1, total_step, loss.item()\n",
        "                    )\n",
        "                )\n",
        "    \n",
        "    print(\"Done.\")\n",
        "\n",
        "train(10)"
      ]
    },
    {
      "cell_type": "markdown",
      "metadata": {},
      "source": [
        "Now test the trained model"
      ]
    },
    {
      "cell_type": "code",
      "execution_count": 14,
      "metadata": {},
      "outputs": [
        {
          "name": "stdout",
          "output_type": "stream",
          "text": [
            "Test Accuracy of the model on the 10000 test images: 98.48%\n"
          ]
        }
      ],
      "source": [
        "def test():\n",
        "    # Test the model\n",
        "    model.eval()\n",
        "    with torch.no_grad():\n",
        "        correct = 0\n",
        "        total = 0\n",
        "        for images, labels in test_loader:\n",
        "            test_output = model(images)\n",
        "            pred_y = torch.max(test_output, 1)[1].data.squeeze()\n",
        "            correct += (pred_y == labels).sum().item()\n",
        "            total += labels.size(0)\n",
        "        \n",
        "        accuracy = correct / float(total)\n",
        "        print('Test Accuracy of the model on the 10000 test images: %.2f%%' % (accuracy * 100))\n",
        "test()"
      ]
    }
  ],
  "metadata": {
    "colab": {
      "provenance": []
    },
    "kernelspec": {
      "display_name": "Python 3",
      "language": "python",
      "name": "python3"
    },
    "language_info": {
      "codemirror_mode": {
        "name": "ipython",
        "version": 3
      },
      "file_extension": ".py",
      "mimetype": "text/x-python",
      "name": "python",
      "nbconvert_exporter": "python",
      "pygments_lexer": "ipython3",
      "version": "3.8.19"
    }
  },
  "nbformat": 4,
  "nbformat_minor": 0
}

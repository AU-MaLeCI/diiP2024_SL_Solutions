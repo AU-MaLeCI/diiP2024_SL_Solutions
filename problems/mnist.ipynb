{
  "cells": [
    {
      "cell_type": "markdown",
      "metadata": {
        "id": "D53KDb2hVU_X"
      },
      "source": [
        "# Training a CNN model on MNIST"
      ]
    },
    {
      "cell_type": "markdown",
      "metadata": {},
      "source": [
        "#### Install dependencies"
      ]
    },
    {
      "cell_type": "code",
      "execution_count": null,
      "metadata": {},
      "outputs": [],
      "source": [
        "%pip install matplotlib seaborn torch torchvision torchaudio"
      ]
    },
    {
      "cell_type": "markdown",
      "metadata": {},
      "source": [
        "#### Prepare imports"
      ]
    },
    {
      "cell_type": "code",
      "execution_count": null,
      "metadata": {
        "id": "0z7zspfLVU_Y"
      },
      "outputs": [],
      "source": [
        "import matplotlib.pyplot as plt # This is to load plotting functions\n",
        "import seaborn as sns; sns.set() # This is to make the plots prettier\n",
        "import torch # This is the ML library we will use\n",
        "from torchvision import datasets # This is to access the MNIST dataset\n",
        "from torchvision.transforms import ToTensor # This is used to transform data into a PyTorch tensor\n",
        "from torch.utils.data import DataLoader # This is used to load the data efficiently"
      ]
    },
    {
      "cell_type": "markdown",
      "metadata": {},
      "source": [
        "#### Select the device from GPU and CPU"
      ]
    },
    {
      "cell_type": "code",
      "execution_count": null,
      "metadata": {
        "colab": {
          "base_uri": "https://localhost:8080/"
        },
        "id": "OgaQ7FaCVU_g",
        "outputId": "2b0f9f23-03a1-47cf-f079-431bef89dd8a"
      },
      "outputs": [],
      "source": [
        "# If GPU is available, it is chosen for computations, and if not, CPU will be used\n",
        "device = torch.device('cuda:0' if torch.cuda.is_available() else 'cpu')\n",
        "device"
      ]
    },
    {
      "cell_type": "markdown",
      "metadata": {},
      "source": [
        "#### Download the MNIST dataset"
      ]
    },
    {
      "cell_type": "code",
      "execution_count": null,
      "metadata": {},
      "outputs": [],
      "source": [
        "train_data = datasets.MNIST(\n",
        "    root = 'data',\n",
        "    train = True,                         \n",
        "    transform = ToTensor(), \n",
        "    download = True,            \n",
        ")\n",
        "test_data = datasets.MNIST(\n",
        "    root = 'data', \n",
        "    train = False, \n",
        "    transform = ToTensor()\n",
        ")\n",
        "print(train_data)\n",
        "print(test_data)"
      ]
    },
    {
      "cell_type": "markdown",
      "metadata": {},
      "source": [
        "##### Show example images from the dataset"
      ]
    },
    {
      "cell_type": "code",
      "execution_count": null,
      "metadata": {},
      "outputs": [],
      "source": [
        "figure = plt.figure(figsize=(10, 8))\n",
        "cols, rows = 5, 5\n",
        "for i in range(1, cols * rows + 1):\n",
        "    sample_idx = torch.randint(len(train_data), size=(1,)).item()\n",
        "    img, label = train_data[sample_idx]\n",
        "    figure.add_subplot(rows, cols, i)\n",
        "    plt.title(label)\n",
        "    plt.axis(\"off\")\n",
        "    plt.imshow(img.squeeze(), cmap=\"gray\")\n",
        "plt.show()"
      ]
    },
    {
      "cell_type": "markdown",
      "metadata": {},
      "source": [
        "#### Create data loaders"
      ]
    },
    {
      "cell_type": "code",
      "execution_count": null,
      "metadata": {},
      "outputs": [],
      "source": [
        "train_loader = torch.utils.data.DataLoader(\n",
        "    train_data, batch_size=100, shuffle=True, num_workers=1\n",
        ")\n",
        "\n",
        "test_loader = (\n",
        "    torch.utils.data.DataLoader(test_data, batch_size=100, shuffle=True, num_workers=1)\n",
        ")"
      ]
    },
    {
      "cell_type": "markdown",
      "metadata": {},
      "source": [
        "#### Create an MLP classifier model with the following structure:\n",
        "\n",
        "Flatten layer to create a vector from the input image (28x28)\n",
        "\n",
        "Linear layer with 28 * 28 input dimensions and 256 output dimensions\n",
        "\n",
        "ReLU activation layer\n",
        "\n",
        "Linear layer with 256 input dimensions and 128 output dimensions\n",
        "\n",
        "ReLU activation layer\n",
        "\n",
        "Linear layer with 128 input dimensions and 10 output dimensions (number of classes)\n",
        "\n",
        "We do not use softmax for the output layer because the CrossEntropyLoss function from PyTorch receives unnormalized logits.\n"
      ]
    },
    {
      "cell_type": "markdown",
      "metadata": {},
      "source": [
        "<details>\n",
        "<summary>Solution</summary>\n",
        "    <code>\n",
        "        torch.nn.Flatten(),<br>\n",
        "        torch.nn.Linear(28 * 28, 256),<br>\n",
        "        torch.nn.ReLU(),<br>\n",
        "        torch.nn.Linear(256, 128),<br>\n",
        "        torch.nn.ReLU(),<br>\n",
        "        torch.nn.Linear(128, 10),<br>\n",
        "    </code>\n",
        "</details>"
      ]
    },
    {
      "cell_type": "code",
      "execution_count": null,
      "metadata": {},
      "outputs": [],
      "source": [
        "class MnistMlpClassifier(torch.nn.Module):\n",
        "    def __init__(self):\n",
        "        super().__init__()\n",
        "\n",
        "        self.body = torch.nn.Sequential(\n",
        "            ...\n",
        "        )\n",
        "\n",
        "    def forward(self, x):\n",
        "        output = self.body(x)\n",
        "        return output"
      ]
    },
    {
      "cell_type": "code",
      "execution_count": null,
      "metadata": {},
      "outputs": [],
      "source": [
        "# Instantiate the model\n",
        "model_mlp = MnistMlpClassifier()\n",
        "model_mlp"
      ]
    },
    {
      "cell_type": "markdown",
      "metadata": {},
      "source": [
        "#### Create a loss function and an optimizer"
      ]
    },
    {
      "cell_type": "code",
      "execution_count": null,
      "metadata": {},
      "outputs": [],
      "source": [
        "learning_rate = 0.01\n",
        "\n",
        "loss_func_mlp = torch.nn.CrossEntropyLoss()   \n",
        "optimizer_mlp = torch.optim.Adam(model_mlp.parameters(), lr=learning_rate)"
      ]
    },
    {
      "cell_type": "markdown",
      "metadata": {},
      "source": [
        "#### Train the model"
      ]
    },
    {
      "cell_type": "code",
      "execution_count": null,
      "metadata": {},
      "outputs": [],
      "source": [
        "def train(num_epochs, model, loss_func, optimizer):\n",
        "\n",
        "    model.train()\n",
        "\n",
        "    # Train the model\n",
        "    total_step = len(train_loader)\n",
        "\n",
        "    for epoch in range(num_epochs):\n",
        "        # For each batch in the training data\n",
        "        for i, (images, labels) in enumerate(train_loader):\n",
        "\n",
        "            # Compute output and loss\n",
        "            output = model(images)\n",
        "            loss = loss_func(output, labels)\n",
        "\n",
        "            # Clear gradients for this training step\n",
        "            optimizer.zero_grad()\n",
        "\n",
        "            # Compute gradients\n",
        "            loss.backward()\n",
        "            # Apply gradients\n",
        "            optimizer.step()\n",
        "\n",
        "            if (i + 1) % 100 == 0:\n",
        "                print(\n",
        "                    \"Epoch [{}/{}], Step [{}/{}], Loss: {:.4f}\".format(\n",
        "                        epoch + 1, num_epochs, i + 1, total_step, loss.item()\n",
        "                    )\n",
        "                )\n",
        "    \n",
        "    print(\"Done.\")\n",
        "\n",
        "train(10, model_mlp, loss_func_mlp, optimizer_mlp)"
      ]
    },
    {
      "cell_type": "markdown",
      "metadata": {},
      "source": [
        "#### Now test the trained model on the test subset of MNIST"
      ]
    },
    {
      "cell_type": "code",
      "execution_count": null,
      "metadata": {},
      "outputs": [],
      "source": [
        "def test(model):\n",
        "    # Test the model\n",
        "    model.eval()\n",
        "    with torch.no_grad():\n",
        "        correct = 0\n",
        "        total = 0\n",
        "        for images, labels in test_loader:\n",
        "            test_output = model(images)\n",
        "            pred_y = torch.max(test_output, 1)[1].data.squeeze()\n",
        "            correct += (pred_y == labels).sum().item()\n",
        "            total += labels.size(0)\n",
        "        \n",
        "        accuracy = correct / float(total)\n",
        "        print('Test Accuracy of the model on the 10000 test images: %.2f%%' % (accuracy * 100))\n",
        "test(model_mlp)"
      ]
    },
    {
      "cell_type": "markdown",
      "metadata": {},
      "source": [
        "#### Create a CNN classifier model with the following structure:\n",
        "\n",
        "2D Convolutional layer with 1 input channel, 16 output channels, filter size of 5x5, stride 1 and padding 2\n",
        "\n",
        "ReLU activation layer\n",
        "\n",
        "2D Max Pooling layer of size 2x2\n",
        "\n",
        "2D Convolutional layer with 16 input channels, 32 output channels, filter size of 5x5, stride 1 and padding 2\n",
        "\n",
        "ReLU activation layer\n",
        "\n",
        "2D Max Pooling layer of size 2x2\n",
        "\n",
        "Flatten layer to create a vector from the tensor (32x7x7)\n",
        "\n",
        "Linear layer with 32 * 7 * 7 input channels and 10 output dimensions (number of classes)\n",
        "\n",
        "We do not use softmax for the output layer because the CrossEntropyLoss function from PyTorch receives unnormalized logits."
      ]
    },
    {
      "cell_type": "markdown",
      "metadata": {},
      "source": [
        "<details>\n",
        "<summary>Solution</summary>\n",
        "    <code>\n",
        "    torch.nn.Conv2d(in_channels=1,out_channels=16,kernel_size=5,stride=1,padding=2),<br>\n",
        "    torch.nn.ReLU(),<br>\n",
        "    torch.nn.MaxPool2d(kernel_size=2),<br>\n",
        "    torch.nn.Conv2d(in_channels=16,out_channels=32,kernel_size=5,stride=1,padding=2),<br>\n",
        "    torch.nn.ReLU(),<br>\n",
        "    torch.nn.MaxPool2d(kernel_size=2),<br>\n",
        "    torch.nn.Flatten(),<br>\n",
        "    torch.nn.Linear(32 * 7 * 7, 10),<br>\n",
        "    </code>\n",
        "</details>"
      ]
    },
    {
      "cell_type": "code",
      "execution_count": null,
      "metadata": {},
      "outputs": [],
      "source": [
        "class MnistCnnClassifier(torch.nn.Module):\n",
        "    def __init__(self):\n",
        "        super().__init__()\n",
        "\n",
        "        self.body = torch.nn.Sequential(\n",
        "            ...\n",
        "        )\n",
        "\n",
        "    def forward(self, x):\n",
        "        output = self.body(x)\n",
        "        return output"
      ]
    },
    {
      "cell_type": "code",
      "execution_count": null,
      "metadata": {},
      "outputs": [],
      "source": [
        "# Instantiate the model\n",
        "model_cnn = MnistCnnClassifier()\n",
        "model_cnn"
      ]
    },
    {
      "cell_type": "code",
      "execution_count": null,
      "metadata": {},
      "outputs": [],
      "source": [
        "learning_rate = 0.01\n",
        "\n",
        "loss_func_cnn = torch.nn.CrossEntropyLoss()   \n",
        "optimizer_cnn = torch.optim.Adam(model_cnn.parameters(), lr=learning_rate)"
      ]
    },
    {
      "cell_type": "code",
      "execution_count": null,
      "metadata": {},
      "outputs": [],
      "source": [
        "train(10, model_cnn, loss_func_cnn, optimizer_cnn)"
      ]
    },
    {
      "cell_type": "code",
      "execution_count": null,
      "metadata": {},
      "outputs": [],
      "source": [
        "test(model_cnn)"
      ]
    }
  ],
  "metadata": {
    "colab": {
      "provenance": []
    },
    "kernelspec": {
      "display_name": "Python 3",
      "language": "python",
      "name": "python3"
    },
    "language_info": {
      "codemirror_mode": {
        "name": "ipython",
        "version": 3
      },
      "file_extension": ".py",
      "mimetype": "text/x-python",
      "name": "python",
      "nbconvert_exporter": "python",
      "pygments_lexer": "ipython3",
      "version": "3.8.19"
    }
  },
  "nbformat": 4,
  "nbformat_minor": 0
}

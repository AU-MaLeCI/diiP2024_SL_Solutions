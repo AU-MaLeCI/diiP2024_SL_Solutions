{
  "cells": [
    {
      "cell_type": "markdown",
      "metadata": {
        "id": "D53KDb2hVU_X"
      },
      "source": [
        "# Perceptron"
      ]
    },
    {
      "cell_type": "markdown",
      "metadata": {},
      "source": [
        "#### Install dependencies"
      ]
    },
    {
      "cell_type": "code",
      "execution_count": null,
      "metadata": {
        "id": "0z7zspfLVU_Y"
      },
      "outputs": [],
      "source": [
        "%pip install matplotlib scikit-learn seaborn numpy"
      ]
    },
    {
      "cell_type": "markdown",
      "metadata": {},
      "source": [
        "#### Prepare imports"
      ]
    },
    {
      "cell_type": "code",
      "execution_count": null,
      "metadata": {},
      "outputs": [],
      "source": [
        "from sklearn.datasets import load_digits # This is to load the dataset\n",
        "from sklearn.decomposition import PCA  # This is to load PCA to be used to transform digits into a 2D points dataset\n",
        "import matplotlib.pyplot as plt # This is to load plotting functions\n",
        "import seaborn as sns; sns.set() # This is to make the plots prettier\n",
        "import numpy as np # This is used to handle arrays of data"
      ]
    },
    {
      "cell_type": "markdown",
      "metadata": {
        "id": "zEcJtv0PVU_Z"
      },
      "source": [
        "#### Data\n",
        "We will be working with a dataset of handwritten digits.\n",
        "Let us visualise some examples."
      ]
    },
    {
      "cell_type": "code",
      "execution_count": null,
      "metadata": {
        "id": "QGS3hu3IVU_Z"
      },
      "outputs": [],
      "source": [
        "# We're using a subset of two classes for now\n",
        "digits = load_digits(n_class=2)"
      ]
    },
    {
      "cell_type": "code",
      "execution_count": null,
      "metadata": {
        "id": "uzXYhCKYVU_Z"
      },
      "outputs": [],
      "source": [
        "# Handy plotting functions\n",
        "x_min, x_max = -40, 40\n",
        "y_min, y_max = -40, 40\n",
        "\n",
        "def plot_examples():\n",
        "    show_num = 4\n",
        "    _, axes = plt.subplots(1, show_num)\n",
        "    images_and_labels = list(zip(digits.images, digits.target))\n",
        "    for ax, (image, label) in zip(axes[:], images_and_labels[:show_num]):\n",
        "        ax.set_axis_off()\n",
        "        ax.imshow(image, cmap=plt.cm.gray_r, interpolation='nearest')\n",
        "        ax.set_title('Label: %i' % label)\n",
        "\n",
        "def plot_scatter(data, target, n_class=2, alpha=0.5):\n",
        "    scatter = plt.scatter(data[:, 0], data[:, 1], c=target, edgecolor='none', alpha=alpha, cmap=plt.cm.get_cmap('rainbow', n_class))\n",
        "    plt.legend(*scatter.legend_elements(), loc=\"upper left\", title=\"Targets\")\n",
        "    plt.xlabel('Component 1')\n",
        "    plt.ylabel('Component 2')\n",
        "    plt.xlim(x_min, x_max)\n",
        "    plt.ylim(y_min, y_max)\n",
        "\n",
        "def plot_decision_boundary(data, weights):\n",
        "    weights = weights.flatten()\n",
        "    intersection = weights[0]\n",
        "    slope = - weights[1] / weights[2]\n",
        "    xx = np.linspace(x_min, x_max)\n",
        "    yy = slope * xx - intersection\n",
        "    plt.plot(xx, yy, 'k--')\n",
        "    plt.xlim(x_min, x_max)\n",
        "    plt.ylim(y_min, y_max)\n",
        "\n",
        "def plot_mesh(X, pred_fn, n_class=2):\n",
        "    h = 0.1  # step size in the mesh\n",
        "    xx, yy = np.meshgrid(np.arange(x_min, x_max, h), np.arange(y_min, y_max, h))\n",
        "    Z = pred_fn(np.c_[xx.ravel(), yy.ravel()])\n",
        "    Z = Z.reshape(xx.shape)\n",
        "    cs = plt.contourf(xx, yy, Z, alpha = 0.1, cmap=plt.cm.get_cmap('rainbow', n_class))\n",
        "    plt.axis('tight')\n",
        "    plt.xlim(x_min, x_max)\n",
        "    plt.ylim(y_min, y_max)\n"
      ]
    },
    {
      "cell_type": "code",
      "execution_count": null,
      "metadata": {
        "colab": {
          "base_uri": "https://localhost:8080/",
          "height": 167
        },
        "id": "Qw1wfSx3VU_Z",
        "outputId": "3ea4dd70-eb49-438a-99cb-1e970568e625"
      },
      "outputs": [],
      "source": [
        "plot_examples()"
      ]
    },
    {
      "cell_type": "code",
      "execution_count": null,
      "metadata": {
        "colab": {
          "base_uri": "https://localhost:8080/"
        },
        "id": "VsDuAjyfVU_Z",
        "outputId": "b54b8414-cbb5-45e4-cf94-4bba46ca240c"
      },
      "outputs": [],
      "source": [
        "# The dataset contains 2D data in the form of the `images` attribute,\n",
        "# as well as a 1D-version called `data`, where the images have been flattened.\n",
        "# Here we check that they are identical\n",
        "np.array_equal(digits.images[0].flatten(), digits.data[0])"
      ]
    },
    {
      "cell_type": "markdown",
      "metadata": {},
      "source": [
        "#### We can get a 2D version of the data using PCA"
      ]
    },
    {
      "cell_type": "code",
      "execution_count": null,
      "metadata": {
        "id": "mHQ9q31OVU_a"
      },
      "outputs": [],
      "source": [
        "# We can get a 2D version of the data using PCA\n",
        "pca = PCA(n_components=2)\n",
        "X = pca.fit_transform(digits.data) # this is the representation, we'll be working with"
      ]
    },
    {
      "cell_type": "code",
      "execution_count": null,
      "metadata": {
        "id": "R0DsetnOVU_a"
      },
      "outputs": [],
      "source": [
        "# Out targets are in the set {0,1}\n",
        "t_01 = digits.target\n",
        "t_01"
      ]
    },
    {
      "cell_type": "code",
      "execution_count": null,
      "metadata": {
        "colab": {
          "base_uri": "https://localhost:8080/",
          "height": 519
        },
        "id": "qgrCx5DKVU_a",
        "outputId": "5deecefc-4cc2-42f8-cd11-c8011b07a62b"
      },
      "outputs": [],
      "source": [
        "# Let's plot all the data in 2D\n",
        "plot_scatter(X, t_01)"
      ]
    },
    {
      "cell_type": "markdown",
      "metadata": {
        "id": "LR5OY4vNVU_b"
      },
      "source": [
        "## Perceptron\n",
        "\n",
        "A learning_rate of 0.1 should do the job."
      ]
    },
    {
      "cell_type": "code",
      "execution_count": null,
      "metadata": {
        "id": "53BEB_p8VU_b"
      },
      "outputs": [],
      "source": [
        "learning_rate = 0.1  # This is the rate of change of the parameters on every update\n",
        "\n",
        "# Use a non-linear representation (quadratic) for the data (slide 16)\n",
        "def phi(X):\n",
        "    \"\"\"Augment with bias component: phi_0(x) = 1 and squared values\"\"\"\n",
        "    return np.hstack((np.ones((len(X), 1)), X, X**2))\n",
        "\n",
        "\n",
        "# Define the sign function\n",
        "def f(a):\n",
        "    ones = np.ones_like(a)\n",
        "    return ones * (a > 0) - ones * (a < 0)\n",
        "\n",
        "# Define the prediction function (following slide 17)\n",
        "def predict(W_tilde, X_tilde, boundary=0.5):\n",
        "    y = f((W_tilde @ X_tilde.T)[0])  # [0] is used to unpack the vector\n",
        "    preds = np.array(y > boundary, dtype=int)\n",
        "    return preds\n",
        "\n",
        "\n",
        "# Our data is already shuffled, so we skip that step\n",
        "X_train = phi(X)\n",
        "\n",
        "# Our target vectors should be {-1, 1}\n",
        "t_11 = 2 * digits.target - 1\n",
        "t_11"
      ]
    },
    {
      "cell_type": "code",
      "execution_count": null,
      "metadata": {
        "colab": {
          "base_uri": "https://localhost:8080/",
          "height": 571
        },
        "id": "vNrChtSyVU_b",
        "outputId": "557468f5-0a9e-47c5-d1dd-47bb8ea63966"
      },
      "outputs": [],
      "source": [
        "# Initial weight vector\n",
        "np.random.seed(13)\n",
        "W_0 = 2 * np.random.random((1, X_train.shape[1])) -1 # random values in the range [-1,1]\n",
        "print(\"W_0 = {}\".format(W_0))\n",
        "\n",
        "plot_scatter(X, t_11)\n",
        "plot_mesh(X, lambda x: predict(W_0, phi(x)), n_class=2)"
      ]
    },
    {
      "cell_type": "markdown",
      "metadata": {},
      "source": [
        "#### Define functions to find misclassified values and to update weights of the model (following slide 17)"
      ]
    },
    {
      "cell_type": "markdown",
      "metadata": {},
      "source": [
        "<details>\n",
        "<summary>Solution</summary>\n",
        "    <code>\n",
        "    z = W @ X.T * t <= 0\n",
        "    </code>\n",
        "</details>"
      ]
    },
    {
      "cell_type": "code",
      "execution_count": null,
      "metadata": {
        "id": "yli1zkk5VU_b"
      },
      "outputs": [],
      "source": [
        "def misclassified(W, X, t):\n",
        "    z = ...\n",
        "    return z\n",
        "\n",
        "def weight_update(W, X, t):\n",
        "    M = misclassified(W[0], X, t)\n",
        "    M = np.broadcast_to(np.expand_dims(M,axis=1), X.shape)\n",
        "    t = np.broadcast_to(np.expand_dims(t,axis=1), X.shape)\n",
        "    zeros = np.zeros_like(X)\n",
        "    E_p_w = np.sum(np.where(M, X*t, zeros), axis=0) # Perceptron criterion\n",
        "    return E_p_w"
      ]
    },
    {
      "cell_type": "code",
      "execution_count": null,
      "metadata": {
        "id": "FnqOUH8IVU_b"
      },
      "outputs": [],
      "source": [
        "# Initialize the W list\n",
        "epoch = 0\n",
        "W_list = [W_0]"
      ]
    },
    {
      "cell_type": "code",
      "execution_count": null,
      "metadata": {
        "colab": {
          "base_uri": "https://localhost:8080/",
          "height": 553
        },
        "id": "yBKqEd8MVU_b",
        "outputId": "8c76d32a-3152-43b8-e7af-e65a6d073138"
      },
      "outputs": [],
      "source": [
        "# Do one update manually and check progress\n",
        "\n",
        "# Apply update\n",
        "W_list.append(W_list[epoch] + learning_rate * weight_update(W_list[epoch], X_train, t_11))\n",
        "\n",
        "# Plot updates weight\n",
        "plot_scatter(X, t_11)\n",
        "plot_mesh(X, lambda x: predict(W_list[epoch+1], phi(x)), n_class=2)\n",
        "\n",
        "epoch += 1"
      ]
    },
    {
      "cell_type": "code",
      "execution_count": null,
      "metadata": {
        "id": "2ruRGE8uVU_b"
      },
      "outputs": [],
      "source": [
        "# Do rest of the updates (following slide 18)\n",
        "for e in range(epoch, 1000):\n",
        "    W_list.append(W_list[epoch] + learning_rate * weight_update(W_list[epoch], X_train, t_11))\n",
        "    epoch += 1\n",
        "\n",
        "W_perceptron = W_list[-1]\n",
        "W_perceptron"
      ]
    },
    {
      "cell_type": "markdown",
      "metadata": {
        "id": "-rQAl_JoVU_c"
      },
      "source": [
        "### Perform class-predictions\n",
        "You should be able to classify all data points correctly"
      ]
    },
    {
      "cell_type": "code",
      "execution_count": null,
      "metadata": {
        "colab": {
          "base_uri": "https://localhost:8080/"
        },
        "id": "gV-Jcu_lVU_c",
        "outputId": "813e6b63-c6b3-4d9e-c2cb-a17f4bece23f"
      },
      "outputs": [],
      "source": [
        "preds = 2 * predict(W_perceptron, X_train) - 1\n",
        "np.array_equal(preds, t_11)"
      ]
    },
    {
      "cell_type": "markdown",
      "metadata": {
        "id": "r2S_ru3KVU_c"
      },
      "source": [
        "### Plot the decision boundary"
      ]
    },
    {
      "cell_type": "code",
      "execution_count": null,
      "metadata": {
        "colab": {
          "base_uri": "https://localhost:8080/",
          "height": 553
        },
        "id": "Rx8Fe-ajVU_c",
        "outputId": "4ac8dca0-4272-4f14-a375-274e081005dd"
      },
      "outputs": [],
      "source": [
        "plot_scatter(X, preds)\n",
        "plot_mesh(X, lambda x: predict(W_perceptron, phi(x)), n_class=2)"
      ]
    }
  ],
  "metadata": {
    "colab": {
      "provenance": []
    },
    "kernelspec": {
      "display_name": "Python 3",
      "language": "python",
      "name": "python3"
    },
    "language_info": {
      "codemirror_mode": {
        "name": "ipython",
        "version": 3
      },
      "file_extension": ".py",
      "mimetype": "text/x-python",
      "name": "python",
      "nbconvert_exporter": "python",
      "pygments_lexer": "ipython3",
      "version": "3.8.19"
    }
  },
  "nbformat": 4,
  "nbformat_minor": 0
}

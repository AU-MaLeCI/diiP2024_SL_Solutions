{
  "cells": [
    {
      "cell_type": "markdown",
      "metadata": {},
      "source": [
        "# 3D Convonlutional Neural Network"
      ]
    },
    {
      "cell_type": "markdown",
      "metadata": {},
      "source": [
        "#### Install dependencies"
      ]
    },
    {
      "cell_type": "code",
      "execution_count": 23,
      "metadata": {},
      "outputs": [
        {
          "name": "stdout",
          "output_type": "stream",
          "text": [
            "Requirement already satisfied: keras in /home/io/miniconda3/envs/diip/lib/python3.8/site-packages (2.13.1)\n",
            "Requirement already satisfied: gdown in /home/io/miniconda3/envs/diip/lib/python3.8/site-packages (5.2.0)\n",
            "Requirement already satisfied: tensorflow[and-cuda] in /home/io/miniconda3/envs/diip/lib/python3.8/site-packages (2.13.1)\n",
            "\u001b[33mWARNING: tensorflow 2.13.1 does not provide the extra 'and-cuda'\u001b[0m\u001b[33m\n",
            "\u001b[0mRequirement already satisfied: absl-py>=1.0.0 in /home/io/miniconda3/envs/diip/lib/python3.8/site-packages (from tensorflow[and-cuda]) (2.1.0)\n",
            "Requirement already satisfied: astunparse>=1.6.0 in /home/io/miniconda3/envs/diip/lib/python3.8/site-packages (from tensorflow[and-cuda]) (1.6.3)\n",
            "Requirement already satisfied: flatbuffers>=23.1.21 in /home/io/miniconda3/envs/diip/lib/python3.8/site-packages (from tensorflow[and-cuda]) (24.3.25)\n",
            "Requirement already satisfied: gast<=0.4.0,>=0.2.1 in /home/io/miniconda3/envs/diip/lib/python3.8/site-packages (from tensorflow[and-cuda]) (0.4.0)\n",
            "Requirement already satisfied: google-pasta>=0.1.1 in /home/io/miniconda3/envs/diip/lib/python3.8/site-packages (from tensorflow[and-cuda]) (0.2.0)\n",
            "Requirement already satisfied: grpcio<2.0,>=1.24.3 in /home/io/miniconda3/envs/diip/lib/python3.8/site-packages (from tensorflow[and-cuda]) (1.63.0)\n",
            "Requirement already satisfied: h5py>=2.9.0 in /home/io/miniconda3/envs/diip/lib/python3.8/site-packages (from tensorflow[and-cuda]) (3.11.0)\n",
            "Requirement already satisfied: libclang>=13.0.0 in /home/io/miniconda3/envs/diip/lib/python3.8/site-packages (from tensorflow[and-cuda]) (18.1.1)\n",
            "Requirement already satisfied: numpy<=1.24.3,>=1.22 in /home/io/miniconda3/envs/diip/lib/python3.8/site-packages (from tensorflow[and-cuda]) (1.24.3)\n",
            "Requirement already satisfied: opt-einsum>=2.3.2 in /home/io/miniconda3/envs/diip/lib/python3.8/site-packages (from tensorflow[and-cuda]) (3.3.0)\n",
            "Requirement already satisfied: packaging in /home/io/miniconda3/envs/diip/lib/python3.8/site-packages (from tensorflow[and-cuda]) (24.0)\n",
            "Requirement already satisfied: protobuf!=4.21.0,!=4.21.1,!=4.21.2,!=4.21.3,!=4.21.4,!=4.21.5,<5.0.0dev,>=3.20.3 in /home/io/miniconda3/envs/diip/lib/python3.8/site-packages (from tensorflow[and-cuda]) (4.25.3)\n",
            "Requirement already satisfied: setuptools in /home/io/miniconda3/envs/diip/lib/python3.8/site-packages (from tensorflow[and-cuda]) (69.5.1)\n",
            "Requirement already satisfied: six>=1.12.0 in /home/io/miniconda3/envs/diip/lib/python3.8/site-packages (from tensorflow[and-cuda]) (1.16.0)\n",
            "Requirement already satisfied: tensorboard<2.14,>=2.13 in /home/io/miniconda3/envs/diip/lib/python3.8/site-packages (from tensorflow[and-cuda]) (2.13.0)\n",
            "Requirement already satisfied: tensorflow-estimator<2.14,>=2.13.0 in /home/io/miniconda3/envs/diip/lib/python3.8/site-packages (from tensorflow[and-cuda]) (2.13.0)\n",
            "Requirement already satisfied: termcolor>=1.1.0 in /home/io/miniconda3/envs/diip/lib/python3.8/site-packages (from tensorflow[and-cuda]) (2.4.0)\n",
            "Collecting typing-extensions<4.6.0,>=3.6.6 (from tensorflow[and-cuda])\n",
            "  Using cached typing_extensions-4.5.0-py3-none-any.whl.metadata (8.5 kB)\n",
            "Requirement already satisfied: wrapt>=1.11.0 in /home/io/miniconda3/envs/diip/lib/python3.8/site-packages (from tensorflow[and-cuda]) (1.16.0)\n",
            "Requirement already satisfied: tensorflow-io-gcs-filesystem>=0.23.1 in /home/io/miniconda3/envs/diip/lib/python3.8/site-packages (from tensorflow[and-cuda]) (0.34.0)\n",
            "Requirement already satisfied: beautifulsoup4 in /home/io/miniconda3/envs/diip/lib/python3.8/site-packages (from gdown) (4.12.3)\n",
            "Requirement already satisfied: filelock in /home/io/miniconda3/envs/diip/lib/python3.8/site-packages (from gdown) (3.14.0)\n",
            "Requirement already satisfied: requests[socks] in /home/io/miniconda3/envs/diip/lib/python3.8/site-packages (from gdown) (2.31.0)\n",
            "Requirement already satisfied: tqdm in /home/io/miniconda3/envs/diip/lib/python3.8/site-packages (from gdown) (4.66.4)\n",
            "Requirement already satisfied: wheel<1.0,>=0.23.0 in /home/io/miniconda3/envs/diip/lib/python3.8/site-packages (from astunparse>=1.6.0->tensorflow[and-cuda]) (0.43.0)\n",
            "Requirement already satisfied: google-auth<3,>=1.6.3 in /home/io/miniconda3/envs/diip/lib/python3.8/site-packages (from tensorboard<2.14,>=2.13->tensorflow[and-cuda]) (2.29.0)\n",
            "Requirement already satisfied: google-auth-oauthlib<1.1,>=0.5 in /home/io/miniconda3/envs/diip/lib/python3.8/site-packages (from tensorboard<2.14,>=2.13->tensorflow[and-cuda]) (1.0.0)\n",
            "Requirement already satisfied: markdown>=2.6.8 in /home/io/miniconda3/envs/diip/lib/python3.8/site-packages (from tensorboard<2.14,>=2.13->tensorflow[and-cuda]) (3.6)\n",
            "Requirement already satisfied: tensorboard-data-server<0.8.0,>=0.7.0 in /home/io/miniconda3/envs/diip/lib/python3.8/site-packages (from tensorboard<2.14,>=2.13->tensorflow[and-cuda]) (0.7.2)\n",
            "Requirement already satisfied: werkzeug>=1.0.1 in /home/io/miniconda3/envs/diip/lib/python3.8/site-packages (from tensorboard<2.14,>=2.13->tensorflow[and-cuda]) (3.0.3)\n",
            "Requirement already satisfied: soupsieve>1.2 in /home/io/miniconda3/envs/diip/lib/python3.8/site-packages (from beautifulsoup4->gdown) (2.5)\n",
            "Requirement already satisfied: charset-normalizer<4,>=2 in /home/io/miniconda3/envs/diip/lib/python3.8/site-packages (from requests[socks]->gdown) (3.3.2)\n",
            "Requirement already satisfied: idna<4,>=2.5 in /home/io/miniconda3/envs/diip/lib/python3.8/site-packages (from requests[socks]->gdown) (3.7)\n",
            "Requirement already satisfied: urllib3<3,>=1.21.1 in /home/io/miniconda3/envs/diip/lib/python3.8/site-packages (from requests[socks]->gdown) (2.2.1)\n",
            "Requirement already satisfied: certifi>=2017.4.17 in /home/io/miniconda3/envs/diip/lib/python3.8/site-packages (from requests[socks]->gdown) (2024.2.2)\n",
            "Requirement already satisfied: PySocks!=1.5.7,>=1.5.6 in /home/io/miniconda3/envs/diip/lib/python3.8/site-packages (from requests[socks]->gdown) (1.7.1)\n",
            "Requirement already satisfied: cachetools<6.0,>=2.0.0 in /home/io/miniconda3/envs/diip/lib/python3.8/site-packages (from google-auth<3,>=1.6.3->tensorboard<2.14,>=2.13->tensorflow[and-cuda]) (5.3.3)\n",
            "Requirement already satisfied: pyasn1-modules>=0.2.1 in /home/io/miniconda3/envs/diip/lib/python3.8/site-packages (from google-auth<3,>=1.6.3->tensorboard<2.14,>=2.13->tensorflow[and-cuda]) (0.4.0)\n",
            "Requirement already satisfied: rsa<5,>=3.1.4 in /home/io/miniconda3/envs/diip/lib/python3.8/site-packages (from google-auth<3,>=1.6.3->tensorboard<2.14,>=2.13->tensorflow[and-cuda]) (4.9)\n",
            "Requirement already satisfied: requests-oauthlib>=0.7.0 in /home/io/miniconda3/envs/diip/lib/python3.8/site-packages (from google-auth-oauthlib<1.1,>=0.5->tensorboard<2.14,>=2.13->tensorflow[and-cuda]) (2.0.0)\n",
            "Requirement already satisfied: importlib-metadata>=4.4 in /home/io/miniconda3/envs/diip/lib/python3.8/site-packages (from markdown>=2.6.8->tensorboard<2.14,>=2.13->tensorflow[and-cuda]) (7.1.0)\n",
            "Requirement already satisfied: MarkupSafe>=2.1.1 in /home/io/miniconda3/envs/diip/lib/python3.8/site-packages (from werkzeug>=1.0.1->tensorboard<2.14,>=2.13->tensorflow[and-cuda]) (2.1.5)\n",
            "Requirement already satisfied: zipp>=0.5 in /home/io/miniconda3/envs/diip/lib/python3.8/site-packages (from importlib-metadata>=4.4->markdown>=2.6.8->tensorboard<2.14,>=2.13->tensorflow[and-cuda]) (3.18.1)\n",
            "Requirement already satisfied: pyasn1<0.7.0,>=0.4.6 in /home/io/miniconda3/envs/diip/lib/python3.8/site-packages (from pyasn1-modules>=0.2.1->google-auth<3,>=1.6.3->tensorboard<2.14,>=2.13->tensorflow[and-cuda]) (0.6.0)\n",
            "Requirement already satisfied: oauthlib>=3.0.0 in /home/io/miniconda3/envs/diip/lib/python3.8/site-packages (from requests-oauthlib>=0.7.0->google-auth-oauthlib<1.1,>=0.5->tensorboard<2.14,>=2.13->tensorflow[and-cuda]) (3.2.2)\n",
            "Using cached typing_extensions-4.5.0-py3-none-any.whl (27 kB)\n",
            "Installing collected packages: typing-extensions\n",
            "  Attempting uninstall: typing-extensions\n",
            "    Found existing installation: typing_extensions 4.11.0\n",
            "    Uninstalling typing_extensions-4.11.0:\n",
            "      Successfully uninstalled typing_extensions-4.11.0\n",
            "\u001b[31mERROR: pip's dependency resolver does not currently take into account all the packages that are installed. This behaviour is the source of the following dependency conflicts.\n",
            "torch 2.3.0 requires typing-extensions>=4.8.0, but you have typing-extensions 4.5.0 which is incompatible.\u001b[0m\u001b[31m\n",
            "\u001b[0mSuccessfully installed typing-extensions-4.5.0\n",
            "Note: you may need to restart the kernel to use updated packages.\n"
          ]
        }
      ],
      "source": [
        "%pip install tensorflow[and-cuda] keras gdown"
      ]
    },
    {
      "cell_type": "markdown",
      "metadata": {},
      "source": [
        "#### Prepare imports"
      ]
    },
    {
      "cell_type": "code",
      "execution_count": 24,
      "metadata": {
        "id": "_89kaZLcM1jI"
      },
      "outputs": [],
      "source": [
        "import tensorflow # This is the ML library we will use\n",
        "from tensorflow.keras.models import Sequential # This is the Sequential layer that runs all the sublayers inside\n",
        "from tensorflow.keras.layers import Dense, Flatten, Conv3D, MaxPooling3D # These are the layer we will use in the model\n",
        "from tensorflow.keras.utils import to_categorical # This is used to transform labels to categorical format\n",
        "import h5py # This is used to work with h5 files\n",
        "import numpy as np # This is used to handle arrays of data\n",
        "import matplotlib.pyplot as plt # This is to load plotting functions\n",
        "import gdown # This is used to download data from Google Drive\n",
        "import os # This is used to work with file system"
      ]
    },
    {
      "cell_type": "markdown",
      "metadata": {},
      "source": [
        "#### Prepare paths of the data and models"
      ]
    },
    {
      "cell_type": "code",
      "execution_count": 26,
      "metadata": {},
      "outputs": [],
      "source": [
        "ROOT = \"./data\"\n",
        "PRETRAINED_MODEL_PATH = ROOT + '/pretrained_3d_cnn.h5'\n",
        "MODEL_PATH = ROOT + '/3d_cnn.keras'\n",
        "DATSET_PATH = ROOT + '/full_dataset_vectors.h5'\n",
        "\n",
        "os.makedirs(ROOT, exist_ok=True)"
      ]
    },
    {
      "cell_type": "markdown",
      "metadata": {},
      "source": [
        "#### Download the 3D MNIST dataset and the pretrained model files"
      ]
    },
    {
      "cell_type": "code",
      "execution_count": 27,
      "metadata": {
        "id": "qmr6gAQRM1jF"
      },
      "outputs": [
        {
          "name": "stderr",
          "output_type": "stream",
          "text": [
            "Downloading...\n",
            "From: https://drive.google.com/uc?id=1-jDaDuk5ePsRtS1TU85zJ2euBUPc05mU\n",
            "To: /mnt/d/FILES/Code/Teaching/diiP2024_SL_Solutions/data/full_dataset_vectors.h5\n",
            "100%|██████████| 30.6M/30.6M [00:01<00:00, 19.9MB/s]\n",
            "Downloading...\n",
            "From: https://drive.google.com/uc?id=1EG5g_xYCH7gtV6Zdrt1F_h6AQRQHzyGd\n",
            "To: /mnt/d/FILES/Code/Teaching/diiP2024_SL_Solutions/data/pretrained_3d_cnn.h5\n",
            "100%|██████████| 2.35M/2.35M [00:00<00:00, 6.72MB/s]\n"
          ]
        },
        {
          "data": {
            "text/plain": [
              "'./data/pretrained_3d_cnn.h5'"
            ]
          },
          "execution_count": 27,
          "metadata": {},
          "output_type": "execute_result"
        }
      ],
      "source": [
        "gdown.download(\n",
        "    'https://drive.google.com/uc?id=1-jDaDuk5ePsRtS1TU85zJ2euBUPc05mU',\n",
        "    DATSET_PATH,\n",
        "    quiet=False\n",
        ")\n",
        "gdown.download(\n",
        "    'https://drive.google.com/uc?id=1EG5g_xYCH7gtV6Zdrt1F_h6AQRQHzyGd',\n",
        "    PRETRAINED_MODEL_PATH,\n",
        "    quiet=False\n",
        ")"
      ]
    },
    {
      "cell_type": "markdown",
      "metadata": {},
      "source": [
        "#### Model configuration"
      ]
    },
    {
      "cell_type": "code",
      "execution_count": 28,
      "metadata": {
        "id": "QnRIHz16M1jI"
      },
      "outputs": [],
      "source": [
        "batch_size = 100 # Number of images to process at once \n",
        "no_epochs = 30 # Number of epochs to train the model\n",
        "learning_rate = 0.001 # Rate of change of model parameters each training step\n",
        "no_classes = 10 # Number of classes in the dataset\n",
        "validation_split = 0.2 # Fraction of data to be used for validation \n",
        "verbosity = 1 # How verbose the training should be"
      ]
    },
    {
      "cell_type": "markdown",
      "metadata": {},
      "source": [
        "#### Helper functions"
      ]
    },
    {
      "cell_type": "code",
      "execution_count": 29,
      "metadata": {
        "id": "PhtHJC9WM1jJ"
      },
      "outputs": [],
      "source": [
        "# Convert 1D vector into 3D values, provided by the 3D MNIST authors at\n",
        "# https://www.kaggle.com/daavoo/3d-mnist\n",
        "def array_to_color(array, cmap=\"Oranges\"):\n",
        "  s_m = plt.cm.ScalarMappable(cmap=cmap)\n",
        "  return s_m.to_rgba(array)[:,:-1]\n",
        "\n",
        "# Reshape data into format that can be handled by Conv3D layers.\n",
        "# Courtesy of Sam Berglin; Zheming Lian; Jiahui Jang - University of Wisconsin-Madison\n",
        "# Report - https://github.com/sberglin/Projects-and-Papers/blob/master/3D%20CNN/Report.pdf\n",
        "# Code - https://github.com/sberglin/Projects-and-Papers/blob/master/3D%20CNN/network_final_version.ipynb\n",
        "def rgb_data_transform(data):\n",
        "  data_t = []\n",
        "  for i in range(data.shape[0]):\n",
        "    data_t.append(array_to_color(data[i]).reshape(16, 16, 16, 3))\n",
        "  return np.asarray(data_t, dtype=np.float32)"
      ]
    },
    {
      "cell_type": "markdown",
      "metadata": {},
      "source": [
        "#### Load the dataset from the downloaded data file"
      ]
    },
    {
      "cell_type": "code",
      "execution_count": 30,
      "metadata": {
        "id": "YoPbMAXCM1jJ"
      },
      "outputs": [],
      "source": [
        "# Load the HDF5 data file\n",
        "with h5py.File(DATSET_PATH, \"r\") as hf:\n",
        "\n",
        "    # Split the data into training/test features/targets\n",
        "    X_train = hf[\"X_train\"][:]\n",
        "    targets_train = hf[\"y_train\"][:]\n",
        "    X_test = hf[\"X_test\"][:]\n",
        "    targets_test = hf[\"y_test\"][:]\n",
        "\n",
        "    # Determine sample shape\n",
        "    sample_shape = (16, 16, 16, 3)\n",
        "\n",
        "    # Reshape data into 3D format\n",
        "    X_train = rgb_data_transform(X_train)\n",
        "    X_test = rgb_data_transform(X_test)\n",
        "\n",
        "    # Convert target vectors to categorical targets\n",
        "    targets_train = to_categorical(targets_train).astype(np.int64)\n",
        "    targets_test = to_categorical(targets_test).astype(np.int64)"
      ]
    },
    {
      "cell_type": "markdown",
      "metadata": {},
      "source": [
        "#### Create the model\n",
        "\n",
        "Use model.add function to add the following layers:\n",
        "\n",
        "Conv3D layer with 32 output channels, kernel size of 3x3x3, relu activation function, he_uniform function for kernel initializer, input_shape=sample_shape\n",
        "\n",
        "MaxPooling3D layer with 2x2x2 size\n",
        "\n",
        "Conv3D layer with 64 output channels, kernel size of 3x3x3, relu activation function, he_uniform function for kernel initializer\n",
        "\n",
        "MaxPooling3D layer with 2x2x2 size\n",
        "\n",
        "Flatten layer\n",
        "\n",
        "Dense layer with 256 output dimensions, relu activation function, he_uniform function for kernel initializer\n",
        "\n",
        "Dense layer with `no_classes` output dimensions and softmax activation function"
      ]
    },
    {
      "cell_type": "markdown",
      "metadata": {},
      "source": [
        "<details>\n",
        "<summary>Solution</summary>\n",
        "    <code>\n",
        "    model.add(Conv3D(32, kernel_size=(3, 3, 3), activation='relu', kernel_initializer='he_uniform', input_shape=sample_shape))<br>\n",
        "    model.add(MaxPooling3D(pool_size=(2, 2, 2)))<br>\n",
        "    model.add(Conv3D(64, kernel_size=(3, 3, 3), activation='relu', kernel_initializer='he_uniform'))<br>\n",
        "    model.add(MaxPooling3D(pool_size=(2, 2, 2)))<br>\n",
        "    model.add(Flatten())<br>\n",
        "    model.add(Dense(256, activation='relu', kernel_initializer='he_uniform'))<br>\n",
        "    model.add(Dense(no_classes, activation='softmax'))<br>\n",
        "    </code>\n",
        "</details>"
      ]
    },
    {
      "cell_type": "code",
      "execution_count": 39,
      "metadata": {
        "id": "J1OYmwlaM1jK"
      },
      "outputs": [
        {
          "name": "stdout",
          "output_type": "stream",
          "text": [
            "Model: \"sequential_3\"\n",
            "_________________________________________________________________\n",
            " Layer (type)                Output Shape              Param #   \n",
            "=================================================================\n",
            " conv3d_6 (Conv3D)           (None, 14, 14, 14, 32)    2624      \n",
            "                                                                 \n",
            " max_pooling3d_6 (MaxPoolin  (None, 7, 7, 7, 32)       0         \n",
            " g3D)                                                            \n",
            "                                                                 \n",
            " conv3d_7 (Conv3D)           (None, 5, 5, 5, 64)       55360     \n",
            "                                                                 \n",
            " max_pooling3d_7 (MaxPoolin  (None, 2, 2, 2, 64)       0         \n",
            " g3D)                                                            \n",
            "                                                                 \n",
            " flatten_3 (Flatten)         (None, 512)               0         \n",
            "                                                                 \n",
            " dense_6 (Dense)             (None, 256)               131328    \n",
            "                                                                 \n",
            " dense_7 (Dense)             (None, 10)                2570      \n",
            "                                                                 \n",
            "=================================================================\n",
            "Total params: 191882 (749.54 KB)\n",
            "Trainable params: 191882 (749.54 KB)\n",
            "Non-trainable params: 0 (0.00 Byte)\n",
            "_________________________________________________________________\n"
          ]
        }
      ],
      "source": [
        "# Create the model\n",
        "model = Sequential()\n",
        "model.add(Conv3D(32, kernel_size=(3, 3, 3), activation='relu', kernel_initializer='he_uniform', input_shape=sample_shape))\n",
        "model.add(MaxPooling3D(pool_size=(2, 2, 2)))\n",
        "model.add(Conv3D(64, kernel_size=(3, 3, 3), activation='relu', kernel_initializer='he_uniform'))\n",
        "model.add(MaxPooling3D(pool_size=(2, 2, 2)))\n",
        "model.add(Flatten())\n",
        "model.add(Dense(256, activation='relu', kernel_initializer='he_uniform'))\n",
        "model.add(Dense(no_classes, activation='softmax'))\n",
        "model.summary()"
      ]
    },
    {
      "cell_type": "markdown",
      "metadata": {},
      "source": [
        "#### Train the model"
      ]
    },
    {
      "cell_type": "code",
      "execution_count": 32,
      "metadata": {
        "id": "P2vHZCCkM1jK"
      },
      "outputs": [
        {
          "name": "stdout",
          "output_type": "stream",
          "text": [
            "Epoch 1/30\n",
            "80/80 [==============================] - 3s 27ms/step - loss: 2.2592 - accuracy: 0.1974 - val_loss: 1.9361 - val_accuracy: 0.3270\n",
            "Epoch 2/30\n",
            "80/80 [==============================] - 2s 28ms/step - loss: 1.7878 - accuracy: 0.3913 - val_loss: 1.6217 - val_accuracy: 0.4500\n",
            "Epoch 3/30\n",
            "80/80 [==============================] - 2s 25ms/step - loss: 1.5031 - accuracy: 0.4911 - val_loss: 1.5010 - val_accuracy: 0.5015\n",
            "Epoch 4/30\n",
            "80/80 [==============================] - 2s 25ms/step - loss: 1.3794 - accuracy: 0.5253 - val_loss: 1.4099 - val_accuracy: 0.5120\n",
            "Epoch 5/30\n",
            "80/80 [==============================] - 2s 24ms/step - loss: 1.2893 - accuracy: 0.5574 - val_loss: 1.3205 - val_accuracy: 0.5565\n",
            "Epoch 6/30\n",
            "80/80 [==============================] - 2s 24ms/step - loss: 1.1996 - accuracy: 0.5882 - val_loss: 1.2489 - val_accuracy: 0.5760\n",
            "Epoch 7/30\n",
            "80/80 [==============================] - 2s 24ms/step - loss: 1.1510 - accuracy: 0.6039 - val_loss: 1.2411 - val_accuracy: 0.5765\n",
            "Epoch 8/30\n",
            "80/80 [==============================] - 2s 24ms/step - loss: 1.1056 - accuracy: 0.6202 - val_loss: 1.1703 - val_accuracy: 0.6045\n",
            "Epoch 9/30\n",
            "80/80 [==============================] - 2s 26ms/step - loss: 1.0525 - accuracy: 0.6363 - val_loss: 1.1720 - val_accuracy: 0.5930\n",
            "Epoch 10/30\n",
            "80/80 [==============================] - 2s 25ms/step - loss: 1.0146 - accuracy: 0.6507 - val_loss: 1.1731 - val_accuracy: 0.5935\n",
            "Epoch 11/30\n",
            "80/80 [==============================] - 2s 25ms/step - loss: 0.9848 - accuracy: 0.6561 - val_loss: 1.1295 - val_accuracy: 0.6185\n",
            "Epoch 12/30\n",
            "80/80 [==============================] - 2s 25ms/step - loss: 0.9366 - accuracy: 0.6768 - val_loss: 1.1491 - val_accuracy: 0.6215\n",
            "Epoch 13/30\n",
            "80/80 [==============================] - 2s 25ms/step - loss: 0.9192 - accuracy: 0.6864 - val_loss: 1.1787 - val_accuracy: 0.6175\n",
            "Epoch 14/30\n",
            "80/80 [==============================] - 2s 24ms/step - loss: 0.8817 - accuracy: 0.6954 - val_loss: 1.1310 - val_accuracy: 0.6250\n",
            "Epoch 15/30\n",
            "80/80 [==============================] - 2s 25ms/step - loss: 0.8491 - accuracy: 0.7044 - val_loss: 1.1513 - val_accuracy: 0.6265\n",
            "Epoch 16/30\n",
            "80/80 [==============================] - 2s 24ms/step - loss: 0.8123 - accuracy: 0.7206 - val_loss: 1.1393 - val_accuracy: 0.6325\n",
            "Epoch 17/30\n",
            "80/80 [==============================] - 2s 25ms/step - loss: 0.7910 - accuracy: 0.7321 - val_loss: 1.1479 - val_accuracy: 0.6200\n",
            "Epoch 18/30\n",
            "80/80 [==============================] - 2s 26ms/step - loss: 0.7631 - accuracy: 0.7385 - val_loss: 1.1212 - val_accuracy: 0.6350\n",
            "Epoch 19/30\n",
            "80/80 [==============================] - 2s 25ms/step - loss: 0.7281 - accuracy: 0.7469 - val_loss: 1.0939 - val_accuracy: 0.6365\n",
            "Epoch 20/30\n",
            "80/80 [==============================] - 2s 27ms/step - loss: 0.6956 - accuracy: 0.7614 - val_loss: 1.1451 - val_accuracy: 0.6450\n",
            "Epoch 21/30\n",
            "80/80 [==============================] - 2s 26ms/step - loss: 0.6681 - accuracy: 0.7707 - val_loss: 1.1082 - val_accuracy: 0.6565\n",
            "Epoch 22/30\n",
            "80/80 [==============================] - 2s 26ms/step - loss: 0.6389 - accuracy: 0.7799 - val_loss: 1.1453 - val_accuracy: 0.6480\n",
            "Epoch 23/30\n",
            "80/80 [==============================] - 2s 26ms/step - loss: 0.6315 - accuracy: 0.7853 - val_loss: 1.1748 - val_accuracy: 0.6495\n",
            "Epoch 24/30\n",
            "80/80 [==============================] - 2s 25ms/step - loss: 0.5915 - accuracy: 0.7999 - val_loss: 1.1637 - val_accuracy: 0.6470\n",
            "Epoch 25/30\n",
            "80/80 [==============================] - 2s 25ms/step - loss: 0.5811 - accuracy: 0.8012 - val_loss: 1.1475 - val_accuracy: 0.6555\n",
            "Epoch 26/30\n",
            "80/80 [==============================] - 2s 24ms/step - loss: 0.5513 - accuracy: 0.8142 - val_loss: 1.1400 - val_accuracy: 0.6480\n",
            "Epoch 27/30\n",
            "80/80 [==============================] - 2s 24ms/step - loss: 0.5142 - accuracy: 0.8276 - val_loss: 1.2074 - val_accuracy: 0.6515\n",
            "Epoch 28/30\n",
            "80/80 [==============================] - 2s 24ms/step - loss: 0.4928 - accuracy: 0.8376 - val_loss: 1.2313 - val_accuracy: 0.6520\n",
            "Epoch 29/30\n",
            "80/80 [==============================] - 2s 25ms/step - loss: 0.4609 - accuracy: 0.8462 - val_loss: 1.2096 - val_accuracy: 0.6585\n",
            "Epoch 30/30\n",
            "80/80 [==============================] - 2s 25ms/step - loss: 0.4545 - accuracy: 0.8499 - val_loss: 1.2965 - val_accuracy: 0.6565\n"
          ]
        }
      ],
      "source": [
        "# Compile the model\n",
        "model.compile(loss=tensorflow.keras.losses.categorical_crossentropy,\n",
        "              optimizer=tensorflow.keras.optimizers.Adam(learning_rate=learning_rate),\n",
        "              metrics=['accuracy'])\n",
        "\n",
        "# Fit model to data \n",
        "history = model.fit(X_train, targets_train,\n",
        "            batch_size=batch_size,\n",
        "            epochs=no_epochs,\n",
        "            verbose=verbosity,\n",
        "            validation_split=validation_split)\n",
        "model.save(MODEL_PATH)"
      ]
    },
    {
      "cell_type": "markdown",
      "metadata": {},
      "source": [
        "#### Load the pretrained model weights into a separate model"
      ]
    },
    {
      "cell_type": "code",
      "execution_count": 36,
      "metadata": {},
      "outputs": [
        {
          "name": "stdout",
          "output_type": "stream",
          "text": [
            "Model: \"sequential\"\n",
            "_________________________________________________________________\n",
            " Layer (type)                Output Shape              Param #   \n",
            "=================================================================\n",
            " conv3d (Conv3D)             (None, 14, 14, 14, 32)    2624      \n",
            "                                                                 \n",
            " max_pooling3d (MaxPooling3  (None, 7, 7, 7, 32)       0         \n",
            " D)                                                              \n",
            "                                                                 \n",
            " conv3d_1 (Conv3D)           (None, 5, 5, 5, 64)       55360     \n",
            "                                                                 \n",
            " max_pooling3d_1 (MaxPoolin  (None, 2, 2, 2, 64)       0         \n",
            " g3D)                                                            \n",
            "                                                                 \n",
            " flatten (Flatten)           (None, 512)               0         \n",
            "                                                                 \n",
            " dense (Dense)               (None, 256)               131328    \n",
            "                                                                 \n",
            " dense_1 (Dense)             (None, 10)                2570      \n",
            "                                                                 \n",
            "=================================================================\n",
            "Total params: 191882 (749.54 KB)\n",
            "Trainable params: 191882 (749.54 KB)\n",
            "Non-trainable params: 0 (0.00 Byte)\n",
            "_________________________________________________________________\n"
          ]
        }
      ],
      "source": [
        "pretrained_model = tensorflow.keras.models.load_model(PRETRAINED_MODEL_PATH)\n",
        "pretrained_model.summary()"
      ]
    },
    {
      "cell_type": "markdown",
      "metadata": {},
      "source": [
        "#### Test the models"
      ]
    },
    {
      "cell_type": "code",
      "execution_count": 37,
      "metadata": {},
      "outputs": [
        {
          "name": "stdout",
          "output_type": "stream",
          "text": [
            "Pretrained model. Test loss: 1.7864867448806763 / Test accuracy: 0.6679999828338623\n",
            "Trained model. Test loss: 1.2103594541549683 / Test accuracy: 0.6620000004768372\n"
          ]
        }
      ],
      "source": [
        "# Generate generalization metrics\n",
        "score_pretrained = pretrained_model.evaluate(X_test, targets_test, verbose=0)\n",
        "score = model.evaluate(X_test, targets_test, verbose=0)\n",
        "print(f'Pretrained model. Test loss: {score_pretrained[0]} / Test accuracy: {score_pretrained[1]}')\n",
        "print(f'Trained model. Test loss: {score[0]} / Test accuracy: {score[1]}')"
      ]
    },
    {
      "cell_type": "markdown",
      "metadata": {},
      "source": [
        "#### Plot losses"
      ]
    },
    {
      "cell_type": "code",
      "execution_count": 38,
      "metadata": {
        "id": "NMscxtHoM1jL"
      },
      "outputs": [
        {
          "data": {
            "image/png": "[encoded data removed]",
            "text/plain": [
              "<Figure size 640x480 with 1 Axes>"
            ]
          },
          "metadata": {},
          "output_type": "display_data"
        }
      ],
      "source": [
        "\n",
        "# Plot history: Categorical crossentropy & Accuracy\n",
        "plt.plot(history.history['loss'], label='Categorical crossentropy (training data)')\n",
        "plt.plot(history.history['val_loss'], label='Categorical crossentropy (validation data)')\n",
        "plt.plot(history.history['accuracy'], label='Accuracy (training data)')\n",
        "plt.plot(history.history['val_accuracy'], label='Accuracy (validation data)')\n",
        "plt.title('Model performance for 3D MNIST Keras Conv3D example')\n",
        "plt.ylabel('Loss value')\n",
        "plt.xlabel('No. epoch')\n",
        "plt.legend(loc=\"upper left\")\n",
        "plt.show()"
      ]
    }
  ],
  "metadata": {
    "colab": {
      "provenance": []
    },
    "kernelspec": {
      "display_name": "Python 3",
      "language": "python",
      "name": "python3"
    },
    "language_info": {
      "codemirror_mode": {
        "name": "ipython",
        "version": 3
      },
      "file_extension": ".py",
      "mimetype": "text/x-python",
      "name": "python",
      "nbconvert_exporter": "python",
      "pygments_lexer": "ipython3",
      "version": "3.8.19"
    }
  },
  "nbformat": 4,
  "nbformat_minor": 0
}

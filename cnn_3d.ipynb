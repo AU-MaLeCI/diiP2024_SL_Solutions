{
  "cells": [
    {
      "cell_type": "markdown",
      "metadata": {},
      "source": [
        "# 3D Convonlutional Neural Network"
      ]
    },
    {
      "cell_type": "markdown",
      "metadata": {},
      "source": [
        "#### Install dependencies"
      ]
    },
    {
      "cell_type": "code",
      "execution_count": 12,
      "metadata": {},
      "outputs": [
        {
          "name": "stdout",
          "output_type": "stream",
          "text": [
            "Requirement already satisfied: keras in /home/io/miniconda3/envs/diip/lib/python3.8/site-packages (2.13.1)\n",
            "Requirement already satisfied: gdown in /home/io/miniconda3/envs/diip/lib/python3.8/site-packages (5.2.0)\n",
            "Requirement already satisfied: tensorflow[and-cuda] in /home/io/miniconda3/envs/diip/lib/python3.8/site-packages (2.13.1)\n",
            "\u001b[33mWARNING: tensorflow 2.13.1 does not provide the extra 'and-cuda'\u001b[0m\u001b[33m\n",
            "\u001b[0mRequirement already satisfied: absl-py>=1.0.0 in /home/io/miniconda3/envs/diip/lib/python3.8/site-packages (from tensorflow[and-cuda]) (2.1.0)\n",
            "Requirement already satisfied: astunparse>=1.6.0 in /home/io/miniconda3/envs/diip/lib/python3.8/site-packages (from tensorflow[and-cuda]) (1.6.3)\n",
            "Requirement already satisfied: flatbuffers>=23.1.21 in /home/io/miniconda3/envs/diip/lib/python3.8/site-packages (from tensorflow[and-cuda]) (24.3.25)\n",
            "Requirement already satisfied: gast<=0.4.0,>=0.2.1 in /home/io/miniconda3/envs/diip/lib/python3.8/site-packages (from tensorflow[and-cuda]) (0.4.0)\n",
            "Requirement already satisfied: google-pasta>=0.1.1 in /home/io/miniconda3/envs/diip/lib/python3.8/site-packages (from tensorflow[and-cuda]) (0.2.0)\n",
            "Requirement already satisfied: grpcio<2.0,>=1.24.3 in /home/io/miniconda3/envs/diip/lib/python3.8/site-packages (from tensorflow[and-cuda]) (1.63.0)\n",
            "Requirement already satisfied: h5py>=2.9.0 in /home/io/miniconda3/envs/diip/lib/python3.8/site-packages (from tensorflow[and-cuda]) (3.11.0)\n",
            "Requirement already satisfied: libclang>=13.0.0 in /home/io/miniconda3/envs/diip/lib/python3.8/site-packages (from tensorflow[and-cuda]) (18.1.1)\n",
            "Requirement already satisfied: numpy<=1.24.3,>=1.22 in /home/io/miniconda3/envs/diip/lib/python3.8/site-packages (from tensorflow[and-cuda]) (1.24.3)\n",
            "Requirement already satisfied: opt-einsum>=2.3.2 in /home/io/miniconda3/envs/diip/lib/python3.8/site-packages (from tensorflow[and-cuda]) (3.3.0)\n",
            "Requirement already satisfied: packaging in /home/io/miniconda3/envs/diip/lib/python3.8/site-packages (from tensorflow[and-cuda]) (24.0)\n",
            "Requirement already satisfied: protobuf!=4.21.0,!=4.21.1,!=4.21.2,!=4.21.3,!=4.21.4,!=4.21.5,<5.0.0dev,>=3.20.3 in /home/io/miniconda3/envs/diip/lib/python3.8/site-packages (from tensorflow[and-cuda]) (4.25.3)\n",
            "Requirement already satisfied: setuptools in /home/io/miniconda3/envs/diip/lib/python3.8/site-packages (from tensorflow[and-cuda]) (69.5.1)\n",
            "Requirement already satisfied: six>=1.12.0 in /home/io/miniconda3/envs/diip/lib/python3.8/site-packages (from tensorflow[and-cuda]) (1.16.0)\n",
            "Requirement already satisfied: tensorboard<2.14,>=2.13 in /home/io/miniconda3/envs/diip/lib/python3.8/site-packages (from tensorflow[and-cuda]) (2.13.0)\n",
            "Requirement already satisfied: tensorflow-estimator<2.14,>=2.13.0 in /home/io/miniconda3/envs/diip/lib/python3.8/site-packages (from tensorflow[and-cuda]) (2.13.0)\n",
            "Requirement already satisfied: termcolor>=1.1.0 in /home/io/miniconda3/envs/diip/lib/python3.8/site-packages (from tensorflow[and-cuda]) (2.4.0)\n",
            "Requirement already satisfied: typing-extensions<4.6.0,>=3.6.6 in /home/io/miniconda3/envs/diip/lib/python3.8/site-packages (from tensorflow[and-cuda]) (4.5.0)\n",
            "Requirement already satisfied: wrapt>=1.11.0 in /home/io/miniconda3/envs/diip/lib/python3.8/site-packages (from tensorflow[and-cuda]) (1.16.0)\n",
            "Requirement already satisfied: tensorflow-io-gcs-filesystem>=0.23.1 in /home/io/miniconda3/envs/diip/lib/python3.8/site-packages (from tensorflow[and-cuda]) (0.34.0)\n",
            "Requirement already satisfied: beautifulsoup4 in /home/io/miniconda3/envs/diip/lib/python3.8/site-packages (from gdown) (4.12.3)\n",
            "Requirement already satisfied: filelock in /home/io/miniconda3/envs/diip/lib/python3.8/site-packages (from gdown) (3.14.0)\n",
            "Requirement already satisfied: requests[socks] in /home/io/miniconda3/envs/diip/lib/python3.8/site-packages (from gdown) (2.31.0)\n",
            "Requirement already satisfied: tqdm in /home/io/miniconda3/envs/diip/lib/python3.8/site-packages (from gdown) (4.66.4)\n",
            "Requirement already satisfied: wheel<1.0,>=0.23.0 in /home/io/miniconda3/envs/diip/lib/python3.8/site-packages (from astunparse>=1.6.0->tensorflow[and-cuda]) (0.43.0)\n",
            "Requirement already satisfied: google-auth<3,>=1.6.3 in /home/io/miniconda3/envs/diip/lib/python3.8/site-packages (from tensorboard<2.14,>=2.13->tensorflow[and-cuda]) (2.29.0)\n",
            "Requirement already satisfied: google-auth-oauthlib<1.1,>=0.5 in /home/io/miniconda3/envs/diip/lib/python3.8/site-packages (from tensorboard<2.14,>=2.13->tensorflow[and-cuda]) (1.0.0)\n",
            "Requirement already satisfied: markdown>=2.6.8 in /home/io/miniconda3/envs/diip/lib/python3.8/site-packages (from tensorboard<2.14,>=2.13->tensorflow[and-cuda]) (3.6)\n",
            "Requirement already satisfied: tensorboard-data-server<0.8.0,>=0.7.0 in /home/io/miniconda3/envs/diip/lib/python3.8/site-packages (from tensorboard<2.14,>=2.13->tensorflow[and-cuda]) (0.7.2)\n",
            "Requirement already satisfied: werkzeug>=1.0.1 in /home/io/miniconda3/envs/diip/lib/python3.8/site-packages (from tensorboard<2.14,>=2.13->tensorflow[and-cuda]) (3.0.3)\n",
            "Requirement already satisfied: soupsieve>1.2 in /home/io/miniconda3/envs/diip/lib/python3.8/site-packages (from beautifulsoup4->gdown) (2.5)\n",
            "Requirement already satisfied: charset-normalizer<4,>=2 in /home/io/miniconda3/envs/diip/lib/python3.8/site-packages (from requests[socks]->gdown) (3.3.2)\n",
            "Requirement already satisfied: idna<4,>=2.5 in /home/io/miniconda3/envs/diip/lib/python3.8/site-packages (from requests[socks]->gdown) (3.7)\n",
            "Requirement already satisfied: urllib3<3,>=1.21.1 in /home/io/miniconda3/envs/diip/lib/python3.8/site-packages (from requests[socks]->gdown) (2.2.1)\n",
            "Requirement already satisfied: certifi>=2017.4.17 in /home/io/miniconda3/envs/diip/lib/python3.8/site-packages (from requests[socks]->gdown) (2024.2.2)\n",
            "Requirement already satisfied: PySocks!=1.5.7,>=1.5.6 in /home/io/miniconda3/envs/diip/lib/python3.8/site-packages (from requests[socks]->gdown) (1.7.1)\n",
            "Requirement already satisfied: cachetools<6.0,>=2.0.0 in /home/io/miniconda3/envs/diip/lib/python3.8/site-packages (from google-auth<3,>=1.6.3->tensorboard<2.14,>=2.13->tensorflow[and-cuda]) (5.3.3)\n",
            "Requirement already satisfied: pyasn1-modules>=0.2.1 in /home/io/miniconda3/envs/diip/lib/python3.8/site-packages (from google-auth<3,>=1.6.3->tensorboard<2.14,>=2.13->tensorflow[and-cuda]) (0.4.0)\n",
            "Requirement already satisfied: rsa<5,>=3.1.4 in /home/io/miniconda3/envs/diip/lib/python3.8/site-packages (from google-auth<3,>=1.6.3->tensorboard<2.14,>=2.13->tensorflow[and-cuda]) (4.9)\n",
            "Requirement already satisfied: requests-oauthlib>=0.7.0 in /home/io/miniconda3/envs/diip/lib/python3.8/site-packages (from google-auth-oauthlib<1.1,>=0.5->tensorboard<2.14,>=2.13->tensorflow[and-cuda]) (2.0.0)\n",
            "Requirement already satisfied: importlib-metadata>=4.4 in /home/io/miniconda3/envs/diip/lib/python3.8/site-packages (from markdown>=2.6.8->tensorboard<2.14,>=2.13->tensorflow[and-cuda]) (7.1.0)\n",
            "Requirement already satisfied: MarkupSafe>=2.1.1 in /home/io/miniconda3/envs/diip/lib/python3.8/site-packages (from werkzeug>=1.0.1->tensorboard<2.14,>=2.13->tensorflow[and-cuda]) (2.1.5)\n",
            "Requirement already satisfied: zipp>=0.5 in /home/io/miniconda3/envs/diip/lib/python3.8/site-packages (from importlib-metadata>=4.4->markdown>=2.6.8->tensorboard<2.14,>=2.13->tensorflow[and-cuda]) (3.18.1)\n",
            "Requirement already satisfied: pyasn1<0.7.0,>=0.4.6 in /home/io/miniconda3/envs/diip/lib/python3.8/site-packages (from pyasn1-modules>=0.2.1->google-auth<3,>=1.6.3->tensorboard<2.14,>=2.13->tensorflow[and-cuda]) (0.6.0)\n",
            "Requirement already satisfied: oauthlib>=3.0.0 in /home/io/miniconda3/envs/diip/lib/python3.8/site-packages (from requests-oauthlib>=0.7.0->google-auth-oauthlib<1.1,>=0.5->tensorboard<2.14,>=2.13->tensorflow[and-cuda]) (3.2.2)\n",
            "Note: you may need to restart the kernel to use updated packages.\n"
          ]
        }
      ],
      "source": [
        "%pip install tensorflow[and-cuda] keras gdown"
      ]
    },
    {
      "cell_type": "markdown",
      "metadata": {},
      "source": [
        "#### Prepare imports"
      ]
    },
    {
      "cell_type": "code",
      "execution_count": 13,
      "metadata": {
        "id": "_89kaZLcM1jI"
      },
      "outputs": [],
      "source": [
        "import tensorflow\n",
        "from tensorflow.keras.models import Sequential\n",
        "from tensorflow.keras.layers import Dense, Flatten, Conv3D, MaxPooling3D\n",
        "from tensorflow.keras.utils import to_categorical\n",
        "import h5py\n",
        "import numpy as np\n",
        "import matplotlib.pyplot as plt\n",
        "import gdown\n",
        "import os"
      ]
    },
    {
      "cell_type": "markdown",
      "metadata": {},
      "source": [
        "#### Download data and model files"
      ]
    },
    {
      "cell_type": "code",
      "execution_count": 14,
      "metadata": {
        "id": "qmr6gAQRM1jF"
      },
      "outputs": [
        {
          "name": "stderr",
          "output_type": "stream",
          "text": [
            "Downloading...\n",
            "From: https://drive.google.com/uc?id=1-jDaDuk5ePsRtS1TU85zJ2euBUPc05mU\n",
            "To: /mnt/d/FILES/Code/Teaching/diiP2024_SL_Solutions/data/full_dataset_vectors.h5\n",
            "100%|██████████| 30.6M/30.6M [00:00<00:00, 47.1MB/s]\n",
            "Downloading...\n",
            "From: https://drive.google.com/uc?id=1EG5g_xYCH7gtV6Zdrt1F_h6AQRQHzyGd\n",
            "To: /mnt/d/FILES/Code/Teaching/diiP2024_SL_Solutions/data/pretrained_3d_cnn.h5\n",
            "100%|██████████| 2.35M/2.35M [00:00<00:00, 9.61MB/s]\n"
          ]
        },
        {
          "data": {
            "text/plain": [
              "'./data/pretrained_3d_cnn.h5'"
            ]
          },
          "execution_count": 14,
          "metadata": {},
          "output_type": "execute_result"
        }
      ],
      "source": [
        "ROOT = \"./data\"\n",
        "PRETRAINED_MODEL_PATH = ROOT + '/pretrained_3d_cnn.h5'\n",
        "MODEL_PATH = ROOT + '/3d_cnn.keras'\n",
        "DATSET_PATH = ROOT + '/full_dataset_vectors.h5'\n",
        "\n",
        "os.makedirs(ROOT, exist_ok=True)\n",
        "\n",
        "gdown.download(\n",
        "    'https://drive.google.com/uc?id=1-jDaDuk5ePsRtS1TU85zJ2euBUPc05mU',\n",
        "    DATSET_PATH,\n",
        "    quiet=False\n",
        ")\n",
        "gdown.download(\n",
        "    'https://drive.google.com/uc?id=1EG5g_xYCH7gtV6Zdrt1F_h6AQRQHzyGd',\n",
        "    PRETRAINED_MODEL_PATH,\n",
        "    quiet=False\n",
        ")"
      ]
    },
    {
      "cell_type": "markdown",
      "metadata": {},
      "source": [
        "#### Model configuration"
      ]
    },
    {
      "cell_type": "code",
      "execution_count": 15,
      "metadata": {
        "id": "QnRIHz16M1jI"
      },
      "outputs": [],
      "source": [
        "batch_size = 100\n",
        "no_epochs = 30\n",
        "learning_rate = 0.001\n",
        "no_classes = 10\n",
        "validation_split = 0.2\n",
        "verbosity = 1"
      ]
    },
    {
      "cell_type": "markdown",
      "metadata": {},
      "source": [
        "#### Helper functions"
      ]
    },
    {
      "cell_type": "code",
      "execution_count": 16,
      "metadata": {
        "id": "PhtHJC9WM1jJ"
      },
      "outputs": [],
      "source": [
        "# Convert 1D vector into 3D values, provided by the 3D MNIST authors at\n",
        "# https://www.kaggle.com/daavoo/3d-mnist\n",
        "def array_to_color(array, cmap=\"Oranges\"):\n",
        "  s_m = plt.cm.ScalarMappable(cmap=cmap)\n",
        "  return s_m.to_rgba(array)[:,:-1]\n",
        "\n",
        "# Reshape data into format that can be handled by Conv3D layers.\n",
        "# Courtesy of Sam Berglin; Zheming Lian; Jiahui Jang - University of Wisconsin-Madison\n",
        "# Report - https://github.com/sberglin/Projects-and-Papers/blob/master/3D%20CNN/Report.pdf\n",
        "# Code - https://github.com/sberglin/Projects-and-Papers/blob/master/3D%20CNN/network_final_version.ipynb\n",
        "def rgb_data_transform(data):\n",
        "  data_t = []\n",
        "  for i in range(data.shape[0]):\n",
        "    data_t.append(array_to_color(data[i]).reshape(16, 16, 16, 3))\n",
        "  return np.asarray(data_t, dtype=np.float32)"
      ]
    },
    {
      "cell_type": "markdown",
      "metadata": {},
      "source": [
        "#### Load the dataset from the downloaded data file"
      ]
    },
    {
      "cell_type": "code",
      "execution_count": 17,
      "metadata": {
        "id": "YoPbMAXCM1jJ"
      },
      "outputs": [],
      "source": [
        "# Load the HDF5 data file\n",
        "with h5py.File(DATSET_PATH, \"r\") as hf:\n",
        "\n",
        "    # Split the data into training/test features/targets\n",
        "    X_train = hf[\"X_train\"][:]\n",
        "    targets_train = hf[\"y_train\"][:]\n",
        "    X_test = hf[\"X_test\"][:]\n",
        "    targets_test = hf[\"y_test\"][:]\n",
        "\n",
        "    # Determine sample shape\n",
        "    sample_shape = (16, 16, 16, 3)\n",
        "\n",
        "    # Reshape data into 3D format\n",
        "    X_train = rgb_data_transform(X_train)\n",
        "    X_test = rgb_data_transform(X_test)\n",
        "\n",
        "    # Convert target vectors to categorical targets\n",
        "    targets_train = to_categorical(targets_train).astype(np.int64)\n",
        "    targets_test = to_categorical(targets_test).astype(np.int64)"
      ]
    },
    {
      "cell_type": "markdown",
      "metadata": {},
      "source": [
        "#### Create the model"
      ]
    },
    {
      "cell_type": "code",
      "execution_count": 18,
      "metadata": {
        "id": "J1OYmwlaM1jK"
      },
      "outputs": [],
      "source": [
        "# Create the model\n",
        "model = Sequential()\n",
        "model.add(Conv3D(32, kernel_size=(3, 3, 3), activation='relu', kernel_initializer='he_uniform', input_shape=sample_shape))\n",
        "model.add(MaxPooling3D(pool_size=(2, 2, 2)))\n",
        "model.add(Conv3D(64, kernel_size=(3, 3, 3), activation='relu', kernel_initializer='he_uniform'))\n",
        "model.add(MaxPooling3D(pool_size=(2, 2, 2)))\n",
        "model.add(Flatten())\n",
        "model.add(Dense(256, activation='relu', kernel_initializer='he_uniform'))\n",
        "model.add(Dense(no_classes, activation='softmax'))"
      ]
    },
    {
      "cell_type": "markdown",
      "metadata": {},
      "source": [
        "#### Load a pretrained model"
      ]
    },
    {
      "cell_type": "code",
      "execution_count": 19,
      "metadata": {},
      "outputs": [],
      "source": [
        "pretrained_model = tensorflow.keras.models.load_model(PRETRAINED_MODEL_PATH)"
      ]
    },
    {
      "cell_type": "markdown",
      "metadata": {},
      "source": [
        "#### Train the model"
      ]
    },
    {
      "cell_type": "code",
      "execution_count": 20,
      "metadata": {
        "id": "P2vHZCCkM1jK"
      },
      "outputs": [
        {
          "name": "stdout",
          "output_type": "stream",
          "text": [
            "Epoch 1/30\n",
            "80/80 [==============================] - 2s 27ms/step - loss: 2.0773 - accuracy: 0.2788 - val_loss: 1.6892 - val_accuracy: 0.4335\n",
            "Epoch 2/30\n",
            "80/80 [==============================] - 2s 25ms/step - loss: 1.4634 - accuracy: 0.5011 - val_loss: 1.3357 - val_accuracy: 0.5405\n",
            "Epoch 3/30\n",
            "80/80 [==============================] - 2s 23ms/step - loss: 1.2253 - accuracy: 0.5742 - val_loss: 1.2100 - val_accuracy: 0.5820\n",
            "Epoch 4/30\n",
            "80/80 [==============================] - 2s 23ms/step - loss: 1.1084 - accuracy: 0.6194 - val_loss: 1.1374 - val_accuracy: 0.6000\n",
            "Epoch 5/30\n",
            "80/80 [==============================] - 2s 23ms/step - loss: 1.0030 - accuracy: 0.6540 - val_loss: 1.0830 - val_accuracy: 0.6150\n",
            "Epoch 6/30\n",
            "80/80 [==============================] - 2s 22ms/step - loss: 0.9455 - accuracy: 0.6769 - val_loss: 1.0684 - val_accuracy: 0.6265\n",
            "Epoch 7/30\n",
            "80/80 [==============================] - 2s 21ms/step - loss: 0.8727 - accuracy: 0.7032 - val_loss: 1.0403 - val_accuracy: 0.6460\n",
            "Epoch 8/30\n",
            "80/80 [==============================] - 2s 21ms/step - loss: 0.7847 - accuracy: 0.7349 - val_loss: 0.9929 - val_accuracy: 0.6675\n",
            "Epoch 9/30\n",
            "80/80 [==============================] - 2s 21ms/step - loss: 0.7190 - accuracy: 0.7625 - val_loss: 1.0667 - val_accuracy: 0.6435\n",
            "Epoch 10/30\n",
            "80/80 [==============================] - 2s 21ms/step - loss: 0.6672 - accuracy: 0.7793 - val_loss: 1.0714 - val_accuracy: 0.6465\n",
            "Epoch 11/30\n",
            "80/80 [==============================] - 2s 20ms/step - loss: 0.6033 - accuracy: 0.8001 - val_loss: 1.0212 - val_accuracy: 0.6665\n",
            "Epoch 12/30\n",
            "80/80 [==============================] - 2s 20ms/step - loss: 0.5603 - accuracy: 0.8140 - val_loss: 1.0157 - val_accuracy: 0.6690\n",
            "Epoch 13/30\n",
            "80/80 [==============================] - 2s 20ms/step - loss: 0.4957 - accuracy: 0.8366 - val_loss: 1.0657 - val_accuracy: 0.6770\n",
            "Epoch 14/30\n",
            "80/80 [==============================] - 2s 20ms/step - loss: 0.4479 - accuracy: 0.8559 - val_loss: 1.1281 - val_accuracy: 0.6565\n",
            "Epoch 15/30\n",
            "80/80 [==============================] - 2s 20ms/step - loss: 0.4308 - accuracy: 0.8601 - val_loss: 1.2008 - val_accuracy: 0.6505\n",
            "Epoch 16/30\n",
            "80/80 [==============================] - 2s 20ms/step - loss: 0.3589 - accuracy: 0.8817 - val_loss: 1.1991 - val_accuracy: 0.6635\n",
            "Epoch 17/30\n",
            "80/80 [==============================] - 2s 20ms/step - loss: 0.3134 - accuracy: 0.9020 - val_loss: 1.1942 - val_accuracy: 0.6675\n",
            "Epoch 18/30\n",
            "80/80 [==============================] - 2s 20ms/step - loss: 0.2867 - accuracy: 0.9099 - val_loss: 1.2322 - val_accuracy: 0.6600\n",
            "Epoch 19/30\n",
            "80/80 [==============================] - 2s 20ms/step - loss: 0.2304 - accuracy: 0.9337 - val_loss: 1.2372 - val_accuracy: 0.6630\n",
            "Epoch 20/30\n",
            "80/80 [==============================] - 2s 20ms/step - loss: 0.2076 - accuracy: 0.9409 - val_loss: 1.2638 - val_accuracy: 0.6735\n",
            "Epoch 21/30\n",
            "80/80 [==============================] - 2s 20ms/step - loss: 0.1686 - accuracy: 0.9560 - val_loss: 1.3284 - val_accuracy: 0.6725\n",
            "Epoch 22/30\n",
            "80/80 [==============================] - 2s 20ms/step - loss: 0.1429 - accuracy: 0.9641 - val_loss: 1.3778 - val_accuracy: 0.6740\n",
            "Epoch 23/30\n",
            "80/80 [==============================] - 2s 20ms/step - loss: 0.1148 - accuracy: 0.9739 - val_loss: 1.4374 - val_accuracy: 0.6785\n",
            "Epoch 24/30\n",
            "80/80 [==============================] - 2s 20ms/step - loss: 0.0915 - accuracy: 0.9805 - val_loss: 1.4491 - val_accuracy: 0.6700\n",
            "Epoch 25/30\n",
            "80/80 [==============================] - 2s 20ms/step - loss: 0.0687 - accuracy: 0.9899 - val_loss: 1.4901 - val_accuracy: 0.6890\n",
            "Epoch 26/30\n",
            "80/80 [==============================] - 2s 20ms/step - loss: 0.0538 - accuracy: 0.9936 - val_loss: 1.5247 - val_accuracy: 0.6725\n",
            "Epoch 27/30\n",
            "80/80 [==============================] - 2s 20ms/step - loss: 0.0379 - accuracy: 0.9980 - val_loss: 1.5917 - val_accuracy: 0.6820\n",
            "Epoch 28/30\n",
            "80/80 [==============================] - 2s 20ms/step - loss: 0.0282 - accuracy: 0.9992 - val_loss: 1.6621 - val_accuracy: 0.6775\n",
            "Epoch 29/30\n",
            "80/80 [==============================] - 2s 20ms/step - loss: 0.0185 - accuracy: 1.0000 - val_loss: 1.6601 - val_accuracy: 0.6820\n",
            "Epoch 30/30\n",
            "80/80 [==============================] - 2s 20ms/step - loss: 0.0146 - accuracy: 1.0000 - val_loss: 1.7234 - val_accuracy: 0.6765\n"
          ]
        }
      ],
      "source": [
        "# Compile the model\n",
        "model.compile(loss=tensorflow.keras.losses.categorical_crossentropy,\n",
        "              optimizer=tensorflow.keras.optimizers.Adam(learning_rate=learning_rate),\n",
        "              metrics=['accuracy'])\n",
        "\n",
        "# Fit model to data \n",
        "history = model.fit(X_train, targets_train,\n",
        "            batch_size=batch_size,\n",
        "            epochs=no_epochs,\n",
        "            verbose=verbosity,\n",
        "            validation_split=validation_split)\n",
        "model.save(MODEL_PATH)"
      ]
    },
    {
      "cell_type": "markdown",
      "metadata": {},
      "source": [
        "#### Test the models"
      ]
    },
    {
      "cell_type": "code",
      "execution_count": 21,
      "metadata": {},
      "outputs": [
        {
          "name": "stdout",
          "output_type": "stream",
          "text": [
            "Pretrained model. Test loss: 1.7864867448806763 / Test accuracy: 0.6679999828338623\n",
            "Trained model. Test loss: 1.8108198642730713 / Test accuracy: 0.6694999933242798\n"
          ]
        }
      ],
      "source": [
        "# Generate generalization metrics\n",
        "score_pretrained = pretrained_model.evaluate(X_test, targets_test, verbose=0)\n",
        "score = model.evaluate(X_test, targets_test, verbose=0)\n",
        "print(f'Pretrained model. Test loss: {score_pretrained[0]} / Test accuracy: {score_pretrained[1]}')\n",
        "print(f'Trained model. Test loss: {score[0]} / Test accuracy: {score[1]}')"
      ]
    },
    {
      "cell_type": "markdown",
      "metadata": {},
      "source": [
        "#### Plot losses"
      ]
    },
    {
      "cell_type": "code",
      "execution_count": 22,
      "metadata": {
        "id": "NMscxtHoM1jL"
      },
      "outputs": [
        {
          "data": {
            "image/png": "[encoded data removed]",
            "text/plain": [
              "<Figure size 640x480 with 1 Axes>"
            ]
          },
          "metadata": {},
          "output_type": "display_data"
        }
      ],
      "source": [
        "\n",
        "# Plot history: Categorical crossentropy & Accuracy\n",
        "plt.plot(history.history['loss'], label='Categorical crossentropy (training data)')\n",
        "plt.plot(history.history['val_loss'], label='Categorical crossentropy (validation data)')\n",
        "plt.plot(history.history['accuracy'], label='Accuracy (training data)')\n",
        "plt.plot(history.history['val_accuracy'], label='Accuracy (validation data)')\n",
        "plt.title('Model performance for 3D MNIST Keras Conv3D example')\n",
        "plt.ylabel('Loss value')\n",
        "plt.xlabel('No. epoch')\n",
        "plt.legend(loc=\"upper left\")\n",
        "plt.show()"
      ]
    }
  ],
  "metadata": {
    "colab": {
      "provenance": []
    },
    "kernelspec": {
      "display_name": "Python 3",
      "language": "python",
      "name": "python3"
    },
    "language_info": {
      "codemirror_mode": {
        "name": "ipython",
        "version": 3
      },
      "file_extension": ".py",
      "mimetype": "text/x-python",
      "name": "python",
      "nbconvert_exporter": "python",
      "pygments_lexer": "ipython3",
      "version": "3.8.19"
    }
  },
  "nbformat": 4,
  "nbformat_minor": 0
}
